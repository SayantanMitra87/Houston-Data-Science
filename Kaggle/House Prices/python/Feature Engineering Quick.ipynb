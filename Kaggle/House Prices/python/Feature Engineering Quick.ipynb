{
 "cells": [
  {
   "cell_type": "code",
   "execution_count": 1,
   "metadata": {
    "collapsed": true
   },
   "outputs": [],
   "source": [
    "import pandas as pd\n",
    "import matplotlib.pyplot as plt\n",
    "import numpy as np\n",
    "import seaborn as sns\n",
    "%matplotlib inline"
   ]
  },
  {
   "cell_type": "code",
   "execution_count": 2,
   "metadata": {
    "collapsed": true
   },
   "outputs": [],
   "source": [
    "df_house = pd.read_csv('../data/train.csv', index_col=0)\n",
    "df_house_test = pd.read_csv('../data/test.csv', index_col=0)\n",
    "df_all = pd.concat((df_house.iloc[:, :-1], df_house_test))"
   ]
  },
  {
   "cell_type": "code",
   "execution_count": 3,
   "metadata": {
    "collapsed": true
   },
   "outputs": [],
   "source": [
    "df_all_new = pd.get_dummies(df_all['MSSubClass'].replace([40, 150], 'Other'), prefix='MSSubClass')"
   ]
  },
  {
   "cell_type": "code",
   "execution_count": 4,
   "metadata": {
    "collapsed": true
   },
   "outputs": [],
   "source": [
    "cur_var = pd.get_dummies(df_all['MSZoning'].fillna('RL'), prefix='MSZoning')\n",
    "df_all_new = df_all_new.join(cur_var)"
   ]
  },
  {
   "cell_type": "code",
   "execution_count": 5,
   "metadata": {
    "collapsed": true
   },
   "outputs": [],
   "source": [
    "df_all_new['LotFrontage'] = np.log(df_all['LotFrontage'].fillna(df_all['LotFrontage'].mean()) + 1)"
   ]
  },
  {
   "cell_type": "code",
   "execution_count": 6,
   "metadata": {
    "collapsed": true
   },
   "outputs": [],
   "source": [
    "df_all_new['LotArea'] = np.log(df_all['LotArea'] + 1)"
   ]
  },
  {
   "cell_type": "code",
   "execution_count": 7,
   "metadata": {
    "collapsed": true
   },
   "outputs": [],
   "source": [
    "df_all_new['Street'] = 1 * (df_all['Street'] == 'Pave')"
   ]
  },
  {
   "cell_type": "code",
   "execution_count": 8,
   "metadata": {
    "collapsed": true
   },
   "outputs": [],
   "source": [
    "cur_var = pd.get_dummies(df_all['Alley'].fillna('None'), prefix='Alley')\n",
    "df_all_new = df_all_new.join(cur_var)"
   ]
  },
  {
   "cell_type": "code",
   "execution_count": 9,
   "metadata": {
    "collapsed": true
   },
   "outputs": [],
   "source": [
    "cur_var = pd.get_dummies(df_all['LotShape'], prefix='LotShape')\n",
    "df_all_new = df_all_new.join(cur_var)"
   ]
  },
  {
   "cell_type": "code",
   "execution_count": 10,
   "metadata": {
    "collapsed": true
   },
   "outputs": [],
   "source": [
    "cur_var = pd.get_dummies(df_all['LandContour'], prefix='LandContour')\n",
    "df_all_new = df_all_new.join(cur_var)"
   ]
  },
  {
   "cell_type": "code",
   "execution_count": 11,
   "metadata": {
    "collapsed": true
   },
   "outputs": [],
   "source": [
    "cur_var = pd.get_dummies(df_all['LotConfig'].replace(['FR2', 'FR3'], 'FR'), 'LotConfig')\n",
    "df_all_new = df_all_new.join(cur_var)"
   ]
  },
  {
   "cell_type": "code",
   "execution_count": 12,
   "metadata": {
    "collapsed": true
   },
   "outputs": [],
   "source": [
    "cur_var = pd.get_dummies(df_all['LandSlope'], 'LandSlope')\n",
    "df_all_new = df_all_new.join(cur_var)"
   ]
  },
  {
   "cell_type": "code",
   "execution_count": 13,
   "metadata": {
    "collapsed": true
   },
   "outputs": [],
   "source": [
    "cur_var = pd.get_dummies(df_all['Neighborhood'], 'Neighborhood')\n",
    "df_all_new = df_all_new.join(cur_var)"
   ]
  },
  {
   "cell_type": "code",
   "execution_count": 14,
   "metadata": {
    "collapsed": true
   },
   "outputs": [],
   "source": [
    "cur_var = pd.get_dummies(df_all['Condition1'], prefix='Condition1')\n",
    "df_all_new = df_all_new.join(cur_var)"
   ]
  },
  {
   "cell_type": "code",
   "execution_count": 15,
   "metadata": {
    "collapsed": true
   },
   "outputs": [],
   "source": [
    "cur_var = pd.get_dummies(df_all['BldgType'], 'BldgType')\n",
    "df_all_new = df_all_new.join(cur_var)"
   ]
  },
  {
   "cell_type": "code",
   "execution_count": 16,
   "metadata": {
    "collapsed": true
   },
   "outputs": [],
   "source": [
    "cur_var = pd.get_dummies(df_all['HouseStyle'], 'HouseStyle')\n",
    "df_all_new = df_all_new.join(cur_var)"
   ]
  },
  {
   "cell_type": "code",
   "execution_count": 17,
   "metadata": {
    "collapsed": true
   },
   "outputs": [],
   "source": [
    "cur_var = pd.get_dummies(df_all['OverallQual'].map(lambda x: 2 if x < 3 else x), 'OveralQual')\n",
    "df_all_new = df_all_new.join(cur_var)"
   ]
  },
  {
   "cell_type": "code",
   "execution_count": 18,
   "metadata": {
    "collapsed": false
   },
   "outputs": [],
   "source": [
    "cur_var = pd.get_dummies(df_all['OverallCond'], 'OverallCond')\n",
    "df_all_new = df_all_new.join(cur_var)"
   ]
  },
  {
   "cell_type": "code",
   "execution_count": 19,
   "metadata": {
    "collapsed": false
   },
   "outputs": [],
   "source": [
    "year_built_new = pd.qcut(df_all['YearBuilt'], 10)\n",
    "cur_var = pd.get_dummies(year_built_new, 'YearBuilt')\n",
    "df_all_new = df_all_new.join(cur_var)"
   ]
  },
  {
   "cell_type": "code",
   "execution_count": 20,
   "metadata": {
    "collapsed": false
   },
   "outputs": [],
   "source": [
    "year_remod = pd.qcut(df_all['YearRemodAdd'], 5)\n",
    "cur_var = pd.get_dummies(year_remod, 'YearRemodAdd')\n",
    "df_all_new = df_all_new.join(cur_var)"
   ]
  },
  {
   "cell_type": "code",
   "execution_count": 21,
   "metadata": {
    "collapsed": true
   },
   "outputs": [],
   "source": [
    "temp = df_all['RoofStyle'].replace(['Mansard', 'Shed'], 'Other')\n",
    "cur_var = pd.get_dummies(temp, prefix='RoofStyle')\n",
    "df_all_new = df_all_new.join(cur_var)"
   ]
  },
  {
   "cell_type": "code",
   "execution_count": 22,
   "metadata": {
    "collapsed": true
   },
   "outputs": [],
   "source": [
    "cur_var = pd.get_dummies(df_all['RoofMatl'].map(lambda x: 'CompShg' if x == 'CompShg' else 'Tar&Grv' if x == 'Tar&Grv' else 'Other'), 'RoofMatl')\n",
    "df_all_new = df_all_new.join(cur_var)"
   ]
  },
  {
   "cell_type": "code",
   "execution_count": 23,
   "metadata": {
    "collapsed": true
   },
   "outputs": [],
   "source": [
    "temp = df_all['Exterior1st'].replace(['BrkComm', 'AsphShn', 'Stone', 'CBlock', 'ImStucc'], 'Other')\n",
    "temp = temp.fillna('Other')\n",
    "cur_var = pd.get_dummies(temp, prefix='Exterior1st')\n",
    "df_all_new = df_all_new.join(cur_var)"
   ]
  },
  {
   "cell_type": "code",
   "execution_count": 24,
   "metadata": {
    "collapsed": true
   },
   "outputs": [],
   "source": [
    "temp = df_all['Exterior2nd'].replace(['Brk Cmn', 'AsphShn', 'Stone', 'CBlock'], 'Other')\n",
    "temp = temp.fillna('Other')\n",
    "cur_var = pd.get_dummies(temp, prefix='Exterior2nd')\n",
    "df_all_new = df_all_new.join(cur_var)"
   ]
  },
  {
   "cell_type": "code",
   "execution_count": 25,
   "metadata": {
    "collapsed": true
   },
   "outputs": [],
   "source": [
    "cur_var = pd.get_dummies(df_all['MasVnrType'].fillna('None'), prefix='MasVnrType')\n",
    "df_all_new = df_all_new.join(cur_var)"
   ]
  },
  {
   "cell_type": "code",
   "execution_count": 26,
   "metadata": {
    "collapsed": true
   },
   "outputs": [],
   "source": [
    "df_all_new['MasVnrArea'] = np.log(df_all['MasVnrArea'].fillna(0) + 1)"
   ]
  },
  {
   "cell_type": "code",
   "execution_count": 27,
   "metadata": {
    "collapsed": true
   },
   "outputs": [],
   "source": [
    "cur_var = pd.get_dummies(df_all['ExterQual'], 'ExterQual')\n",
    "df_all_new = df_all_new.join(cur_var)"
   ]
  },
  {
   "cell_type": "code",
   "execution_count": 28,
   "metadata": {
    "collapsed": true
   },
   "outputs": [],
   "source": [
    "cur_var = pd.get_dummies(df_all['ExterCond'].replace(['Po'], 'Fa'), 'ExterCond')\n",
    "df_all_new = df_all_new.join(cur_var)"
   ]
  },
  {
   "cell_type": "code",
   "execution_count": 29,
   "metadata": {
    "collapsed": true
   },
   "outputs": [],
   "source": [
    "cur_var = pd.get_dummies(df_all['Foundation'], prefix='Foundation')\n",
    "df_all_new = df_all_new.join(cur_var)"
   ]
  },
  {
   "cell_type": "code",
   "execution_count": 30,
   "metadata": {
    "collapsed": true
   },
   "outputs": [],
   "source": [
    "cur_var = pd.get_dummies(df_all['BsmtQual'].fillna('None'), 'BsmtQual')\n",
    "df_all_new = df_all_new.join(cur_var)"
   ]
  },
  {
   "cell_type": "code",
   "execution_count": 31,
   "metadata": {
    "collapsed": true
   },
   "outputs": [],
   "source": [
    "cur_var = pd.get_dummies(temp, prefix='BsmtCond')\n",
    "df_all_new = df_all_new.join(cur_var)"
   ]
  },
  {
   "cell_type": "code",
   "execution_count": 32,
   "metadata": {
    "collapsed": true
   },
   "outputs": [],
   "source": [
    "cur_var = pd.get_dummies(df_all['BsmtExposure'].fillna('None'), prefix='BsmtExposure')\n",
    "df_all_new = df_all_new.join(cur_var)"
   ]
  },
  {
   "cell_type": "code",
   "execution_count": 33,
   "metadata": {
    "collapsed": true
   },
   "outputs": [],
   "source": [
    "cur_var = pd.get_dummies(df_all['BsmtFinType1'].fillna('None'), prefix='BsmtFinType1')\n",
    "df_all_new = df_all_new.join(cur_var)"
   ]
  },
  {
   "cell_type": "code",
   "execution_count": 34,
   "metadata": {
    "collapsed": true
   },
   "outputs": [],
   "source": [
    "df_all_new['BsmtFinSF1'] = np.log(df_all['BsmtFinSF1'].fillna(0) + 1)"
   ]
  },
  {
   "cell_type": "code",
   "execution_count": 35,
   "metadata": {
    "collapsed": true
   },
   "outputs": [],
   "source": [
    "cur_var = pd.get_dummies(df_all['BsmtFinType2'].fillna('None'), prefix='BsmtFinType2')\n",
    "df_all_new = df_all_new.join(cur_var)"
   ]
  },
  {
   "cell_type": "code",
   "execution_count": 36,
   "metadata": {
    "collapsed": true
   },
   "outputs": [],
   "source": [
    "df_all_new['BsmtFinSF2'] = np.log(df_all['BsmtFinSF2'].fillna(0) + 1)"
   ]
  },
  {
   "cell_type": "code",
   "execution_count": 37,
   "metadata": {
    "collapsed": true
   },
   "outputs": [],
   "source": [
    "df_all_new['BsmtUnfSF'] = np.log(df_all['BsmtUnfSF'].fillna(0) + 1)"
   ]
  },
  {
   "cell_type": "code",
   "execution_count": 38,
   "metadata": {
    "collapsed": true
   },
   "outputs": [],
   "source": [
    "df_all_new['TotalBsmtSF'] = np.log(df_all['TotalBsmtSF'].fillna(0) + 1)"
   ]
  },
  {
   "cell_type": "code",
   "execution_count": 39,
   "metadata": {
    "collapsed": true
   },
   "outputs": [],
   "source": [
    "temp = df_all['Heating'].replace(['Wall', 'OthW', 'Floor'], 'Other')\n",
    "cur_var = pd.get_dummies(temp, prefix='Heating')\n",
    "df_all_new = df_all_new.join(cur_var)"
   ]
  },
  {
   "cell_type": "code",
   "execution_count": 40,
   "metadata": {
    "collapsed": true
   },
   "outputs": [],
   "source": [
    "temp = df_all['HeatingQC'].replace(['Po'], 'Fa')\n",
    "cur_var = pd.get_dummies(temp, prefix='HeatingQC')\n",
    "df_all_new = df_all_new.join(cur_var)"
   ]
  },
  {
   "cell_type": "code",
   "execution_count": 41,
   "metadata": {
    "collapsed": true
   },
   "outputs": [],
   "source": [
    "df_all_new['CentralAir'] = np.where(df_all['CentralAir'] == 'Y', 1, 0)"
   ]
  },
  {
   "cell_type": "code",
   "execution_count": 42,
   "metadata": {
    "collapsed": true
   },
   "outputs": [],
   "source": [
    "temp = df_all['Electrical'].fillna('Other').replace(['FuseP', 'Mix'], 'Other')\n",
    "cur_var = pd.get_dummies(temp, prefix='Electrical')\n",
    "df_all_new = df_all_new.join(cur_var)"
   ]
  },
  {
   "cell_type": "code",
   "execution_count": 43,
   "metadata": {
    "collapsed": true
   },
   "outputs": [],
   "source": [
    "df_all_new['1stFlrSF'] = np.log(df_all['1stFlrSF'])"
   ]
  },
  {
   "cell_type": "code",
   "execution_count": 44,
   "metadata": {
    "collapsed": true
   },
   "outputs": [],
   "source": [
    "df_all_new['2ndFlrSF'] = np.log(df_all['2ndFlrSF'] + 1)"
   ]
  },
  {
   "cell_type": "code",
   "execution_count": 45,
   "metadata": {
    "collapsed": true
   },
   "outputs": [],
   "source": [
    "df_all_new['LowQualFinSF'] = np.where(df_all['LowQualFinSF'] == 0, 0, 1)"
   ]
  },
  {
   "cell_type": "code",
   "execution_count": 46,
   "metadata": {
    "collapsed": true
   },
   "outputs": [],
   "source": [
    "df_all_new['GrLivArea'] = np.log(df_all['GrLivArea'] + 1)"
   ]
  },
  {
   "cell_type": "code",
   "execution_count": 47,
   "metadata": {
    "collapsed": true
   },
   "outputs": [],
   "source": [
    "cur_var = pd.get_dummies(df_all['BsmtFullBath'].fillna(0).replace(3, 2).astype(int), 'BsmtFullBath')\n",
    "df_all_new = df_all_new.join(cur_var)"
   ]
  },
  {
   "cell_type": "code",
   "execution_count": 48,
   "metadata": {
    "collapsed": true
   },
   "outputs": [],
   "source": [
    "df_all_new['BsmtHalfBath'] = df_all['BsmtHalfBath'].fillna(0).replace(2, 1)"
   ]
  },
  {
   "cell_type": "code",
   "execution_count": 49,
   "metadata": {
    "collapsed": true
   },
   "outputs": [],
   "source": [
    "cur_var = pd.get_dummies(df_all['FullBath'].fillna(0).replace(4, 3).astype(int), 'FullBath')\n",
    "df_all_new = df_all_new.join(cur_var)"
   ]
  },
  {
   "cell_type": "code",
   "execution_count": 50,
   "metadata": {
    "collapsed": true
   },
   "outputs": [],
   "source": [
    "cur_var = pd.get_dummies(df_all['HalfBath'], 'HalfBath')\n",
    "df_all_new = df_all_new.join(cur_var)"
   ]
  },
  {
   "cell_type": "code",
   "execution_count": 51,
   "metadata": {
    "collapsed": true
   },
   "outputs": [],
   "source": [
    "cur_var = pd.get_dummies(df_all['BedroomAbvGr'].replace(8, 6), 'BedroomAbvGr')\n",
    "df_all_new = df_all_new.join(cur_var)"
   ]
  },
  {
   "cell_type": "code",
   "execution_count": 52,
   "metadata": {
    "collapsed": true
   },
   "outputs": [],
   "source": [
    "df_all_new['KitchenAbvGr'] = (df_all['KitchenAbvGr'] >= 2) * 1"
   ]
  },
  {
   "cell_type": "code",
   "execution_count": 53,
   "metadata": {
    "collapsed": true
   },
   "outputs": [],
   "source": [
    "cur_var = pd.get_dummies(df_all['KitchenQual'].fillna('TA'), 'KitchenQual')\n",
    "df_all_new = df_all_new.join(cur_var)"
   ]
  },
  {
   "cell_type": "code",
   "execution_count": 54,
   "metadata": {
    "collapsed": true
   },
   "outputs": [],
   "source": [
    "cur_var = pd.get_dummies(df_all['TotRmsAbvGrd'].replace({2:3, 13:12, 14:12, 15:12}).astype(int), 'TotRmsAbvGrd')\n",
    "df_all_new = df_all_new.join(cur_var)"
   ]
  },
  {
   "cell_type": "code",
   "execution_count": 55,
   "metadata": {
    "collapsed": true
   },
   "outputs": [],
   "source": [
    "cur_var = pd.get_dummies(df_all['Functional'].replace(['Maj2', 'Sev'], 'Maj1'), 'Functional')\n",
    "df_all_new = df_all_new.join(cur_var)"
   ]
  },
  {
   "cell_type": "code",
   "execution_count": 56,
   "metadata": {
    "collapsed": true
   },
   "outputs": [],
   "source": [
    "cur_var = pd.get_dummies(df_all['Fireplaces'].replace([4], 3), 'Fireplaces')\n",
    "df_all_new = df_all_new.join(cur_var)"
   ]
  },
  {
   "cell_type": "code",
   "execution_count": 57,
   "metadata": {
    "collapsed": true
   },
   "outputs": [],
   "source": [
    "cur_var = pd.get_dummies(df_all['FireplaceQu'].fillna('None'), 'FireplaceQu')\n",
    "df_all_new = df_all_new.join(cur_var)"
   ]
  },
  {
   "cell_type": "code",
   "execution_count": 58,
   "metadata": {
    "collapsed": true
   },
   "outputs": [],
   "source": [
    "cur_var = pd.get_dummies(df_all['GarageType'].fillna('None'), 'GarageType')\n",
    "df_all_new = df_all_new.join(cur_var)"
   ]
  },
  {
   "cell_type": "code",
   "execution_count": 59,
   "metadata": {
    "collapsed": false
   },
   "outputs": [],
   "source": [
    "garage_year_built = pd.qcut(df_all['GarageYrBlt'], 5, labels=['oldest', 'old', 'middle', 'new', 'newest'])\n",
    "cur_var = pd.get_dummies(garage_year_built.astype('object').fillna('None'), 'GarageYrBlt')\n",
    "df_all_new = df_all_new.join(cur_var)"
   ]
  },
  {
   "cell_type": "code",
   "execution_count": 60,
   "metadata": {
    "collapsed": true
   },
   "outputs": [],
   "source": [
    "df_all_new['GarageCars'] = df_all['GarageCars'].replace([4, 5], 3).fillna(0)"
   ]
  },
  {
   "cell_type": "code",
   "execution_count": 61,
   "metadata": {
    "collapsed": true
   },
   "outputs": [],
   "source": [
    "df_all_new['GarageArea'] = np.log(df_all['GarageArea'].fillna(0) + 1)"
   ]
  },
  {
   "cell_type": "code",
   "execution_count": 62,
   "metadata": {
    "collapsed": true
   },
   "outputs": [],
   "source": [
    "cur_var = pd.get_dummies(df_all['GarageQual'].replace({'Po':'Fa', 'Ex':'Gd'}).fillna('None'), 'GarageQual')\n",
    "df_all_new = df_all_new.join(cur_var)"
   ]
  },
  {
   "cell_type": "code",
   "execution_count": 63,
   "metadata": {
    "collapsed": false
   },
   "outputs": [],
   "source": [
    "cur_var = pd.get_dummies(df_all['GarageCond'].replace({'Ex':'Gd'}).fillna('None'), 'GarageCond')\n",
    "df_all_new = df_all_new.join(cur_var)"
   ]
  },
  {
   "cell_type": "code",
   "execution_count": 64,
   "metadata": {
    "collapsed": true
   },
   "outputs": [],
   "source": [
    "cur_var = pd.get_dummies(df_all['PavedDrive'], 'PavedDrive')\n",
    "df_all_new = df_all_new.join(cur_var)"
   ]
  },
  {
   "cell_type": "code",
   "execution_count": 65,
   "metadata": {
    "collapsed": true
   },
   "outputs": [],
   "source": [
    "df_all_new['WoodDeckSF'] = np.log(df_all['WoodDeckSF'] + 1)"
   ]
  },
  {
   "cell_type": "code",
   "execution_count": 66,
   "metadata": {
    "collapsed": true
   },
   "outputs": [],
   "source": [
    "df_all_new['OpenPorchSF'] = np.log(df_all['OpenPorchSF'] + 1)"
   ]
  },
  {
   "cell_type": "code",
   "execution_count": 67,
   "metadata": {
    "collapsed": true
   },
   "outputs": [],
   "source": [
    "df_all_new['EnclosedPorch'] = np.log(df_all['EnclosedPorch'] + 1)"
   ]
  },
  {
   "cell_type": "code",
   "execution_count": 68,
   "metadata": {
    "collapsed": true
   },
   "outputs": [],
   "source": [
    "df_all_new['3SsnPorch'] = np.log(df_all['3SsnPorch'] + 1)"
   ]
  },
  {
   "cell_type": "code",
   "execution_count": 69,
   "metadata": {
    "collapsed": true
   },
   "outputs": [],
   "source": [
    "df_all_new['ScreenPorch'] = np.log(df_all['ScreenPorch'] + 1)"
   ]
  },
  {
   "cell_type": "code",
   "execution_count": 70,
   "metadata": {
    "collapsed": true
   },
   "outputs": [],
   "source": [
    "df_all_new['PoolArea'] = np.log(df_all['PoolArea'] + 1)"
   ]
  },
  {
   "cell_type": "code",
   "execution_count": 71,
   "metadata": {
    "collapsed": true
   },
   "outputs": [],
   "source": [
    "cur_var = pd.get_dummies(temp, 'Fence')\n",
    "df_all_new = df_all_new.join(cur_var)"
   ]
  },
  {
   "cell_type": "code",
   "execution_count": 72,
   "metadata": {
    "collapsed": true
   },
   "outputs": [],
   "source": [
    "df_all_new['MiscFeature'] = (df_all['MiscFeature'] == 'Shed') * 1"
   ]
  },
  {
   "cell_type": "code",
   "execution_count": 73,
   "metadata": {
    "collapsed": true
   },
   "outputs": [],
   "source": [
    "df_all_new['MiscVal'] = np.log(df_all['MiscVal'] + 1)"
   ]
  },
  {
   "cell_type": "code",
   "execution_count": 74,
   "metadata": {
    "collapsed": true
   },
   "outputs": [],
   "source": [
    "cur_var = pd.get_dummies(df_all['MoSold'], 'MoSold')\n",
    "df_all_new = df_all_new.join(cur_var)"
   ]
  },
  {
   "cell_type": "code",
   "execution_count": 75,
   "metadata": {
    "collapsed": true
   },
   "outputs": [],
   "source": [
    "cur_var = pd.get_dummies(df_all['YrSold'], 'YrSold')\n",
    "df_all_new = df_all_new.join(cur_var)"
   ]
  },
  {
   "cell_type": "code",
   "execution_count": 76,
   "metadata": {
    "collapsed": true
   },
   "outputs": [],
   "source": [
    "cur_var = pd.get_dummies(df_all['SaleType'].fillna('WD'), \"SaleType\")\n",
    "df_all_new = df_all_new.join(cur_var)"
   ]
  },
  {
   "cell_type": "code",
   "execution_count": 77,
   "metadata": {
    "collapsed": true
   },
   "outputs": [],
   "source": [
    "cur_var = pd.get_dummies(df_all['SaleCondition'], 'SaleCondition')\n",
    "df_all_new = df_all_new.join(cur_var)"
   ]
  },
  {
   "cell_type": "code",
   "execution_count": 78,
   "metadata": {
    "collapsed": false
   },
   "outputs": [
    {
     "data": {
      "text/plain": [
       "(2919, 347)"
      ]
     },
     "execution_count": 78,
     "metadata": {},
     "output_type": "execute_result"
    }
   ],
   "source": [
    "df_all_new.shape"
   ]
  },
  {
   "cell_type": "code",
   "execution_count": 79,
   "metadata": {
    "collapsed": true
   },
   "outputs": [],
   "source": [
    "df_train_final = df_all_new.loc[df_house.index]\n",
    "df_test_final = df_all_new.loc[df_house_test.index]\n",
    "y_train_final = np.log(df_house['SalePrice']).values"
   ]
  },
  {
   "cell_type": "code",
   "execution_count": 80,
   "metadata": {
    "collapsed": false
   },
   "outputs": [
    {
     "data": {
      "image/png": "[encoded data removed]",
      "text/plain": [
       "<matplotlib.figure.Figure at 0x10be27128>"
      ]
     },
     "metadata": {},
     "output_type": "display_data"
    }
   ],
   "source": [
    "plt.scatter(df_train_final['GrLivArea'], y_train_final);"
   ]
  },
  {
   "cell_type": "code",
   "execution_count": 83,
   "metadata": {
    "collapsed": true
   },
   "outputs": [],
   "source": [
    "bad = ((df_train_final['GrLivArea'] > 8.3) & (y_train_final < 12.5)).values\n",
    "df_train_final = df_train_final[~bad]\n",
    "y_train_final = y_train_final[~bad]"
   ]
  },
  {
   "cell_type": "code",
   "execution_count": 84,
   "metadata": {
    "collapsed": true
   },
   "outputs": [],
   "source": [
    "col_names_scale = df_train_final.columns[df_train_final.max() > 5]"
   ]
  },
  {
   "cell_type": "code",
   "execution_count": 85,
   "metadata": {
    "collapsed": true
   },
   "outputs": [],
   "source": [
    "mean_cols_train = df_train_final.loc[:, col_names_scale].mean()\n",
    "std_cols_train = df_train_final.loc[:, col_names_scale].std()\n",
    "df_train_final.loc[:, col_names_scale] = (df_train_final.loc[:, col_names_scale] - mean_cols_train) / std_cols_train"
   ]
  },
  {
   "cell_type": "code",
   "execution_count": 86,
   "metadata": {
    "collapsed": true
   },
   "outputs": [],
   "source": [
    "mean_cols_test = df_test_final.loc[:, col_names_scale].mean()\n",
    "std_cols_test = df_test_final.loc[:, col_names_scale].std()\n",
    "df_test_final.loc[:, col_names_scale] = (df_test_final.loc[:, col_names_scale] - mean_cols_test) / std_cols_test"
   ]
  },
  {
   "cell_type": "code",
   "execution_count": 87,
   "metadata": {
    "collapsed": true
   },
   "outputs": [],
   "source": [
    "X_train_final = df_train_final.values\n",
    "X_test_final = df_test_final.values"
   ]
  },
  {
   "cell_type": "code",
   "execution_count": 88,
   "metadata": {
    "collapsed": false
   },
   "outputs": [
    {
     "data": {
      "text/plain": [
       "((1458, 347), (1458,))"
      ]
     },
     "execution_count": 88,
     "metadata": {},
     "output_type": "execute_result"
    }
   ],
   "source": [
    "X_train_final.shape, y_train_final.shape"
   ]
  },
  {
   "cell_type": "code",
   "execution_count": 89,
   "metadata": {
    "collapsed": true
   },
   "outputs": [],
   "source": [
    "from sklearn.linear_model import Ridge, Lasso\n",
    "from sklearn.cross_validation import KFold\n",
    "from sklearn.ensemble import ExtraTreesRegressor, RandomForestRegressor, GradientBoostingRegressor\n",
    "from sklearn.grid_search import GridSearchCV"
   ]
  },
  {
   "cell_type": "code",
   "execution_count": 90,
   "metadata": {
    "collapsed": true
   },
   "outputs": [],
   "source": [
    "kf = KFold(len(X_train_final), n_folds=10, shuffle=True)"
   ]
  },
  {
   "cell_type": "code",
   "execution_count": 91,
   "metadata": {
    "collapsed": true
   },
   "outputs": [],
   "source": [
    "def pred_score(y_pred, y_actual):\n",
    "    return np.sqrt(np.mean((y_pred - y_actual) ** 2))"
   ]
  },
  {
   "cell_type": "code",
   "execution_count": 92,
   "metadata": {
    "collapsed": true
   },
   "outputs": [],
   "source": [
    "alphas = np.logspace(-2, 1.3, 100)\n",
    "alpha_scores = {}\n",
    "for alpha in alphas:\n",
    "    test_scores = []\n",
    "    clf = Ridge(alpha=alpha)\n",
    "    for train_index, test_index in kf:\n",
    "        X_train, X_test = X_train_final[train_index], X_train_final[test_index]\n",
    "        y_train, y_test = y_train_final[train_index], y_train_final[test_index]\n",
    "        clf.fit(X_train, y_train)\n",
    "\n",
    "        y_pred_test = clf.predict(X_test)\n",
    "        score = pred_score(y_pred_test, y_test)\n",
    "        test_scores.append(score)\n",
    "    alpha_scores[alpha] = np.mean(test_scores)"
   ]
  },
  {
   "cell_type": "code",
   "execution_count": 93,
   "metadata": {
    "collapsed": false
   },
   "outputs": [
    {
     "data": {
      "image/png": "[encoded data removed]",
      "text/plain": [
       "<matplotlib.figure.Figure at 0x112d88940>"
      ]
     },
     "metadata": {},
     "output_type": "display_data"
    }
   ],
   "source": [
    "pd.Series(alpha_scores).plot();"
   ]
  },
  {
   "cell_type": "code",
   "execution_count": 96,
   "metadata": {
    "collapsed": true
   },
   "outputs": [],
   "source": [
    "import warnings\n",
    "warnings.filterwarnings(\"ignore\")"
   ]
  },
  {
   "cell_type": "code",
   "execution_count": 119,
   "metadata": {
    "collapsed": false
   },
   "outputs": [
    {
     "data": {
      "text/plain": [
       "GridSearchCV(cv=None, error_score='raise',\n",
       "       estimator=GradientBoostingRegressor(alpha=0.9, init=None, learning_rate=0.1, loss='ls',\n",
       "             max_depth=3, max_features=None, max_leaf_nodes=None,\n",
       "             min_samples_leaf=1, min_samples_split=2,\n",
       "             min_weight_fraction_leaf=0.0, n_estimators=100,\n",
       "             presort='auto', random_state=None, subsample=1.0, verbose=0,\n",
       "             warm_start=False),\n",
       "       fit_params={}, iid=True, n_jobs=-1,\n",
       "       param_grid={'learning_rate': [0.03], 'max_features': [0.1], 'n_estimators': [1000, 1500, 2000, 2500, 3000], 'max_depth': [2]},\n",
       "       pre_dispatch='2*n_jobs', refit=True, scoring=None, verbose=0)"
      ]
     },
     "execution_count": 119,
     "metadata": {},
     "output_type": "execute_result"
    }
   ],
   "source": [
    "gbr = GradientBoostingRegressor()\n",
    "parameters = {'max_features':[.1,], 'n_estimators':[1000, 1500, 2000, 2500, 3000],\n",
    "             'learning_rate':[.03], 'max_depth': [2]}\n",
    "clf = GridSearchCV(gbr, parameters, n_jobs=-1)\n",
    "clf.fit(X_train_final, y_train_final)"
   ]
  },
  {
   "cell_type": "code",
   "execution_count": 120,
   "metadata": {
    "collapsed": false
   },
   "outputs": [
    {
     "data": {
      "text/plain": [
       "{'learning_rate': 0.03,\n",
       " 'max_depth': 2,\n",
       " 'max_features': 0.1,\n",
       " 'n_estimators': 2500}"
      ]
     },
     "execution_count": 120,
     "metadata": {},
     "output_type": "execute_result"
    }
   ],
   "source": [
    "clf.best_params_"
   ]
  },
  {
   "cell_type": "code",
   "execution_count": 99,
   "metadata": {
    "collapsed": false
   },
   "outputs": [
    {
     "data": {
      "text/plain": [
       "0.070237347945561676"
      ]
     },
     "execution_count": 99,
     "metadata": {},
     "output_type": "execute_result"
    }
   ],
   "source": [
    "pred_score(clf.predict(X_train_final), y_train_final)"
   ]
  },
  {
   "cell_type": "code",
   "execution_count": 114,
   "metadata": {
    "collapsed": false
   },
   "outputs": [],
   "source": [
    "df_train_final_raw = df_all_new.loc[df_house.index]\n",
    "df_test_final_raw = df_all_new.loc[df_house_test.index]\n",
    "y_train_final = np.log(df_house['SalePrice']).values\n",
    "\n",
    "bad = ((df_train_final_raw['GrLivArea'] > 8.3) & (y_train_final < 12.5)).values\n",
    "df_train_final_raw = df_train_final_raw[~bad]\n",
    "y_train_final = y_train_final[~bad]\n",
    "\n",
    "X_train_final_raw = df_train_final_raw.values\n",
    "X_test_final_raw = df_test_final_raw.values"
   ]
  },
  {
   "cell_type": "code",
   "execution_count": 115,
   "metadata": {
    "collapsed": true
   },
   "outputs": [],
   "source": [
    "def get_kfold_scores(clf, X_train_, y_train_):\n",
    "    test_scores = []\n",
    "    for train_index, test_index in kf:\n",
    "        X_train, X_test = X_train_[train_index], X_train_[test_index]\n",
    "        y_train, y_test = y_train_[train_index], y_train_[test_index]\n",
    "        clf.fit(X_train, y_train)\n",
    "\n",
    "        y_pred_test = clf.predict(X_test)\n",
    "        score = pred_score(y_pred_test, y_test)\n",
    "        test_scores.append(score)\n",
    "\n",
    "    return test_scores"
   ]
  },
  {
   "cell_type": "code",
   "execution_count": 121,
   "metadata": {
    "collapsed": true
   },
   "outputs": [],
   "source": [
    "gbr = GradientBoostingRegressor(learning_rate=.03, max_depth=2, max_features=.1, n_estimators=2500)"
   ]
  },
  {
   "cell_type": "code",
   "execution_count": 122,
   "metadata": {
    "collapsed": false
   },
   "outputs": [],
   "source": [
    "ts = get_kfold_scores(gbr, X_train_final_raw, y_train_final)"
   ]
  },
  {
   "cell_type": "code",
   "execution_count": 123,
   "metadata": {
    "collapsed": false
   },
   "outputs": [
    {
     "data": {
      "text/plain": [
       "0.1159606898733008"
      ]
     },
     "execution_count": 123,
     "metadata": {},
     "output_type": "execute_result"
    }
   ],
   "source": [
    "np.mean(ts)"
   ]
  },
  {
   "cell_type": "code",
   "execution_count": 124,
   "metadata": {
    "collapsed": false
   },
   "outputs": [
    {
     "data": {
      "text/plain": [
       "GridSearchCV(cv=None, error_score='raise',\n",
       "       estimator=RandomForestRegressor(bootstrap=True, criterion='mse', max_depth=None,\n",
       "           max_features='auto', max_leaf_nodes=None, min_samples_leaf=1,\n",
       "           min_samples_split=2, min_weight_fraction_leaf=0.0,\n",
       "           n_estimators=10, n_jobs=1, oob_score=False, random_state=None,\n",
       "           verbose=0, warm_start=False),\n",
       "       fit_params={}, iid=True, n_jobs=-1,\n",
       "       param_grid={'min_samples_split': [2], 'max_features': [0.1, 0.2, 0.3], 'n_estimators': [1000]},\n",
       "       pre_dispatch='2*n_jobs', refit=True, scoring=None, verbose=0)"
      ]
     },
     "execution_count": 124,
     "metadata": {},
     "output_type": "execute_result"
    }
   ],
   "source": [
    "rf = RandomForestRegressor()\n",
    "parameters = {'n_estimators':[1000], 'max_features':[.1, .2, .3], 'min_samples_split':[2]}\n",
    "clf = GridSearchCV(rf, parameters, n_jobs=-1)\n",
    "clf.fit(X_train_final, y_train_final)"
   ]
  },
  {
   "cell_type": "code",
   "execution_count": 125,
   "metadata": {
    "collapsed": true
   },
   "outputs": [],
   "source": [
    "rf = RandomForestRegressor(n_estimators=1000, max_features=.2, n_jobs=-1)"
   ]
  },
  {
   "cell_type": "code",
   "execution_count": 126,
   "metadata": {
    "collapsed": true
   },
   "outputs": [],
   "source": [
    "ts = get_kfold_scores(gbr, X_train_final_raw, y_train_final)"
   ]
  },
  {
   "cell_type": "code",
   "execution_count": null,
   "metadata": {
    "collapsed": true
   },
   "outputs": [],
   "source": []
  }
 ],
 "metadata": {
  "kernelspec": {
   "display_name": "Python [Root]",
   "language": "python",
   "name": "Python [Root]"
  },
  "language_info": {
   "codemirror_mode": {
    "name": "ipython",
    "version": 3
   },
   "file_extension": ".py",
   "mimetype": "text/x-python",
   "name": "python",
   "nbconvert_exporter": "python",
   "pygments_lexer": "ipython3",
   "version": "3.5.2"
  }
 },
 "nbformat": 4,
 "nbformat_minor": 0
}
