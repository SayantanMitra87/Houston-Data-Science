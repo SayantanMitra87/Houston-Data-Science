{
 "cells": [
  {
   "cell_type": "code",
   "execution_count": 1,
   "metadata": {
    "collapsed": true
   },
   "outputs": [],
   "source": [
    "import pandas as pd\n",
    "import matplotlib.pyplot as plt\n",
    "import numpy as np\n",
    "import seaborn as sns\n",
    "from scipy.stats import skew\n",
    "%matplotlib inline"
   ]
  },
  {
   "cell_type": "code",
   "execution_count": 2,
   "metadata": {
    "collapsed": true
   },
   "outputs": [],
   "source": [
    "df_house = pd.read_csv('../data/train.csv', index_col=0)\n",
    "df_house_test = pd.read_csv('../data/test.csv', index_col=0)\n",
    "df_all = pd.concat((df_house.iloc[:, :-1], df_house_test))"
   ]
  },
  {
   "cell_type": "code",
   "execution_count": 3,
   "metadata": {
    "collapsed": true
   },
   "outputs": [],
   "source": [
    "df_all_new = pd.get_dummies(df_all['MSSubClass'].replace([40, 150], 'Other'), prefix='MSSubClass')"
   ]
  },
  {
   "cell_type": "code",
   "execution_count": 4,
   "metadata": {
    "collapsed": true
   },
   "outputs": [],
   "source": [
    "cur_var = pd.get_dummies(df_all['MSZoning'].fillna('RL'), prefix='MSZoning')\n",
    "df_all_new = df_all_new.join(cur_var)"
   ]
  },
  {
   "cell_type": "code",
   "execution_count": 5,
   "metadata": {
    "collapsed": true
   },
   "outputs": [],
   "source": [
    "df_all_new['LotFrontage'] = df_all['LotFrontage'].fillna(df_all['LotFrontage'].mean())"
   ]
  },
  {
   "cell_type": "code",
   "execution_count": 14,
   "metadata": {
    "collapsed": false
   },
   "outputs": [],
   "source": [
    "df_all_new['LotArea'] = np.log1p(df_all['LotArea'])"
   ]
  },
  {
   "cell_type": "code",
   "execution_count": 11,
   "metadata": {
    "collapsed": false
   },
   "outputs": [
    {
     "data": {
      "text/plain": [
       "<matplotlib.axes._subplots.AxesSubplot at 0xbec9828>"
      ]
     },
     "execution_count": 11,
     "metadata": {},
     "output_type": "execute_result"
    },
    {
     "data": {
      "image/png": "[encoded data removed]",
      "text/plain": [
       "<matplotlib.figure.Figure at 0xbecc630>"
      ]
     },
     "metadata": {},
     "output_type": "display_data"
    }
   ],
   "source": [
    "df_all_new['LotArea'].hist(bins=100)"
   ]
  },
  {
   "cell_type": "code",
   "execution_count": 15,
   "metadata": {
    "collapsed": true
   },
   "outputs": [],
   "source": [
    "df_all_new['Street'] = 1 * (df_all['Street'] == 'Pave')"
   ]
  },
  {
   "cell_type": "code",
   "execution_count": 16,
   "metadata": {
    "collapsed": true
   },
   "outputs": [],
   "source": [
    "cur_var = pd.get_dummies(df_all['Alley'].fillna('None'), prefix='Alley')\n",
    "df_all_new = df_all_new.join(cur_var)"
   ]
  },
  {
   "cell_type": "code",
   "execution_count": 17,
   "metadata": {
    "collapsed": true
   },
   "outputs": [],
   "source": [
    "cur_var = pd.get_dummies(df_all['LotShape'], prefix='LotShape')\n",
    "df_all_new = df_all_new.join(cur_var)"
   ]
  },
  {
   "cell_type": "code",
   "execution_count": 18,
   "metadata": {
    "collapsed": true
   },
   "outputs": [],
   "source": [
    "cur_var = pd.get_dummies(df_all['LandContour'], prefix='LandContour')\n",
    "df_all_new = df_all_new.join(cur_var)"
   ]
  },
  {
   "cell_type": "code",
   "execution_count": 19,
   "metadata": {
    "collapsed": true
   },
   "outputs": [],
   "source": [
    "cur_var = pd.get_dummies(df_all['LotConfig'], 'LotConfig')\n",
    "df_all_new = df_all_new.join(cur_var)"
   ]
  },
  {
   "cell_type": "code",
   "execution_count": 20,
   "metadata": {
    "collapsed": true
   },
   "outputs": [],
   "source": [
    "cur_var = pd.get_dummies(df_all['LandSlope'], 'LandSlope')\n",
    "df_all_new = df_all_new.join(cur_var)"
   ]
  },
  {
   "cell_type": "code",
   "execution_count": 21,
   "metadata": {
    "collapsed": true
   },
   "outputs": [],
   "source": [
    "cur_var = pd.get_dummies(df_all['Neighborhood'], 'Neighborhood')\n",
    "df_all_new = df_all_new.join(cur_var)"
   ]
  },
  {
   "cell_type": "code",
   "execution_count": 22,
   "metadata": {
    "collapsed": true
   },
   "outputs": [],
   "source": [
    "cur_var = pd.get_dummies(df_all['Condition1'], prefix='Condition1')\n",
    "df_all_new = df_all_new.join(cur_var)"
   ]
  },
  {
   "cell_type": "code",
   "execution_count": 23,
   "metadata": {
    "collapsed": true
   },
   "outputs": [],
   "source": [
    "cur_var = pd.get_dummies(df_all['BldgType'], 'BldgType')\n",
    "df_all_new = df_all_new.join(cur_var)"
   ]
  },
  {
   "cell_type": "code",
   "execution_count": 24,
   "metadata": {
    "collapsed": true
   },
   "outputs": [],
   "source": [
    "cur_var = pd.get_dummies(df_all['HouseStyle'], 'HouseStyle')\n",
    "df_all_new = df_all_new.join(cur_var)"
   ]
  },
  {
   "cell_type": "code",
   "execution_count": 25,
   "metadata": {
    "collapsed": true
   },
   "outputs": [],
   "source": [
    "cur_var = pd.get_dummies(df_all['OverallQual'].map(lambda x: 2 if x < 3 else x), 'OverallQual')\n",
    "df_all_new = df_all_new.join(cur_var)"
   ]
  },
  {
   "cell_type": "code",
   "execution_count": 26,
   "metadata": {
    "collapsed": false
   },
   "outputs": [],
   "source": [
    "cur_var = pd.get_dummies(df_all['OverallCond'], 'OverallCond')\n",
    "df_all_new = df_all_new.join(cur_var)"
   ]
  },
  {
   "cell_type": "code",
   "execution_count": 27,
   "metadata": {
    "collapsed": false
   },
   "outputs": [],
   "source": [
    "year_built_new = pd.qcut(df_all['YearBuilt'], 10)\n",
    "cur_var = pd.get_dummies(year_built_new, 'YearBuilt')\n",
    "df_all_new = df_all_new.join(cur_var)"
   ]
  },
  {
   "cell_type": "code",
   "execution_count": 28,
   "metadata": {
    "collapsed": false
   },
   "outputs": [],
   "source": [
    "year_remod = pd.qcut(df_all['YearRemodAdd'], 5)\n",
    "cur_var = pd.get_dummies(year_remod, 'YearRemodAdd')\n",
    "df_all_new = df_all_new.join(cur_var)"
   ]
  },
  {
   "cell_type": "code",
   "execution_count": 29,
   "metadata": {
    "collapsed": true
   },
   "outputs": [],
   "source": [
    "# temp = df_all['RoofStyle'].replace(['Mansard', 'Shed'], 'Other')\n",
    "cur_var = pd.get_dummies(df_all['RoofStyle'], prefix='RoofStyle')\n",
    "df_all_new = df_all_new.join(cur_var)"
   ]
  },
  {
   "cell_type": "code",
   "execution_count": 30,
   "metadata": {
    "collapsed": true
   },
   "outputs": [],
   "source": [
    "cur_var = pd.get_dummies(df_all['RoofMatl'].map(lambda x: 'CompShg' if x == 'CompShg' else 'Tar&Grv' if x == 'Tar&Grv' else 'Other'), 'RoofMatl')\n",
    "df_all_new = df_all_new.join(cur_var)"
   ]
  },
  {
   "cell_type": "code",
   "execution_count": 31,
   "metadata": {
    "collapsed": true
   },
   "outputs": [],
   "source": [
    "temp = df_all['Exterior1st'].replace(['BrkComm', 'AsphShn', 'Stone', 'CBlock', 'ImStucc'], 'Other')\n",
    "temp = temp.fillna('Other')\n",
    "cur_var = pd.get_dummies(temp, prefix='Exterior1st')\n",
    "df_all_new = df_all_new.join(cur_var)"
   ]
  },
  {
   "cell_type": "code",
   "execution_count": 32,
   "metadata": {
    "collapsed": true
   },
   "outputs": [],
   "source": [
    "temp = df_all['Exterior2nd'].replace(['Brk Cmn', 'AsphShn', 'Stone', 'CBlock'], 'Other')\n",
    "temp = temp.fillna('Other')\n",
    "cur_var = pd.get_dummies(temp, prefix='Exterior2nd')\n",
    "df_all_new = df_all_new.join(cur_var)"
   ]
  },
  {
   "cell_type": "code",
   "execution_count": 33,
   "metadata": {
    "collapsed": true
   },
   "outputs": [],
   "source": [
    "cur_var = pd.get_dummies(df_all['MasVnrType'].fillna('None'), prefix='MasVnrType')\n",
    "df_all_new = df_all_new.join(cur_var)"
   ]
  },
  {
   "cell_type": "code",
   "execution_count": 53,
   "metadata": {
    "collapsed": false
   },
   "outputs": [],
   "source": [
    "temp = pd.cut(df_all['MasVnrArea'].fillna(0), [-1,0, 100, 200, 300, 500, 3000])\n",
    "cur_var = pd.get_dummies(temp, prefix='MasVnrArea')\n",
    "df_all_new = df_all_new.join(cur_var)\n",
    "# df_all_new['MasVnrArea'] = df_all['MasVnrArea'].fillna(0)"
   ]
  },
  {
   "cell_type": "code",
   "execution_count": 54,
   "metadata": {
    "collapsed": true
   },
   "outputs": [],
   "source": [
    "cur_var = pd.get_dummies(df_all['ExterQual'], 'ExterQual')\n",
    "df_all_new = df_all_new.join(cur_var)"
   ]
  },
  {
   "cell_type": "code",
   "execution_count": 55,
   "metadata": {
    "collapsed": true
   },
   "outputs": [],
   "source": [
    "cur_var = pd.get_dummies(df_all['ExterCond'].replace(['Po'], 'Fa'), 'ExterCond')\n",
    "df_all_new = df_all_new.join(cur_var)"
   ]
  },
  {
   "cell_type": "code",
   "execution_count": 56,
   "metadata": {
    "collapsed": true
   },
   "outputs": [],
   "source": [
    "cur_var = pd.get_dummies(df_all['Foundation'], prefix='Foundation')\n",
    "df_all_new = df_all_new.join(cur_var)"
   ]
  },
  {
   "cell_type": "code",
   "execution_count": 57,
   "metadata": {
    "collapsed": true
   },
   "outputs": [],
   "source": [
    "cur_var = pd.get_dummies(df_all['BsmtQual'].fillna('None'), 'BsmtQual')\n",
    "df_all_new = df_all_new.join(cur_var)"
   ]
  },
  {
   "cell_type": "code",
   "execution_count": 58,
   "metadata": {
    "collapsed": true
   },
   "outputs": [],
   "source": [
    "cur_var = pd.get_dummies(temp, prefix='BsmtCond')\n",
    "df_all_new = df_all_new.join(cur_var)"
   ]
  },
  {
   "cell_type": "code",
   "execution_count": 59,
   "metadata": {
    "collapsed": true
   },
   "outputs": [],
   "source": [
    "cur_var = pd.get_dummies(df_all['BsmtExposure'].fillna('None'), prefix='BsmtExposure')\n",
    "df_all_new = df_all_new.join(cur_var)"
   ]
  },
  {
   "cell_type": "code",
   "execution_count": 60,
   "metadata": {
    "collapsed": true
   },
   "outputs": [],
   "source": [
    "cur_var = pd.get_dummies(df_all['BsmtFinType1'].fillna('None'), prefix='BsmtFinType1')\n",
    "df_all_new = df_all_new.join(cur_var)"
   ]
  },
  {
   "cell_type": "code",
   "execution_count": 68,
   "metadata": {
    "collapsed": false
   },
   "outputs": [
    {
     "data": {
      "text/plain": [
       "1.7451831392301476"
      ]
     },
     "execution_count": 68,
     "metadata": {},
     "output_type": "execute_result"
    }
   ],
   "source": [
    "skew(df_all.loc[df_all['BsmtFinSF1'] > 0, 'BsmtFinSF1'])"
   ]
  },
  {
   "cell_type": "code",
   "execution_count": 69,
   "metadata": {
    "collapsed": true
   },
   "outputs": [],
   "source": [
    "df_all_new['BsmtFinSF1'] = np.log1p(df_all['BsmtFinSF1'].fillna(0))"
   ]
  },
  {
   "cell_type": "code",
   "execution_count": 70,
   "metadata": {
    "collapsed": true
   },
   "outputs": [],
   "source": [
    "cur_var = pd.get_dummies(df_all['BsmtFinType2'].fillna('None'), prefix='BsmtFinType2')\n",
    "df_all_new = df_all_new.join(cur_var)"
   ]
  },
  {
   "cell_type": "code",
   "execution_count": 71,
   "metadata": {
    "collapsed": true
   },
   "outputs": [],
   "source": [
    "df_all_new['BsmtFinSF2'] = np.log1p(df_all['BsmtFinSF2'].fillna(0))"
   ]
  },
  {
   "cell_type": "code",
   "execution_count": 74,
   "metadata": {
    "collapsed": true
   },
   "outputs": [],
   "source": [
    "df_all_new['BsmtUnfSF'] = np.log1p(df_all['BsmtUnfSF'].fillna(0))"
   ]
  },
  {
   "cell_type": "code",
   "execution_count": 75,
   "metadata": {
    "collapsed": true
   },
   "outputs": [],
   "source": [
    "df_all_new['TotalBsmtSF'] = np.log1p(df_all['TotalBsmtSF'].fillna(0))"
   ]
  },
  {
   "cell_type": "code",
   "execution_count": 76,
   "metadata": {
    "collapsed": true
   },
   "outputs": [],
   "source": [
    "temp = df_all['Heating'].replace(['OthW', 'Floor'], 'Other')\n",
    "cur_var = pd.get_dummies(temp, prefix='Heating')\n",
    "df_all_new = df_all_new.join(cur_var)"
   ]
  },
  {
   "cell_type": "code",
   "execution_count": 77,
   "metadata": {
    "collapsed": true
   },
   "outputs": [],
   "source": [
    "temp = df_all['HeatingQC'].replace(['Po'], 'Fa')\n",
    "cur_var = pd.get_dummies(temp, prefix='HeatingQC')\n",
    "df_all_new = df_all_new.join(cur_var)"
   ]
  },
  {
   "cell_type": "code",
   "execution_count": 78,
   "metadata": {
    "collapsed": true
   },
   "outputs": [],
   "source": [
    "df_all_new['CentralAir'] = np.where(df_all['CentralAir'] == 'Y', 1, 0)"
   ]
  },
  {
   "cell_type": "code",
   "execution_count": 79,
   "metadata": {
    "collapsed": true
   },
   "outputs": [],
   "source": [
    "temp = df_all['Electrical'].fillna('Other').replace(['FuseP', 'Mix'], 'Other')\n",
    "cur_var = pd.get_dummies(temp, prefix='Electrical')\n",
    "df_all_new = df_all_new.join(cur_var)"
   ]
  },
  {
   "cell_type": "code",
   "execution_count": 82,
   "metadata": {
    "collapsed": true
   },
   "outputs": [],
   "source": [
    "df_all_new['1stFlrSF'] = np.log1p(df_all['1stFlrSF'])"
   ]
  },
  {
   "cell_type": "code",
   "execution_count": 83,
   "metadata": {
    "collapsed": true
   },
   "outputs": [],
   "source": [
    "df_all_new['2ndFlrSF'] = np.log1p(df_all['2ndFlrSF'])"
   ]
  },
  {
   "cell_type": "code",
   "execution_count": 84,
   "metadata": {
    "collapsed": true
   },
   "outputs": [],
   "source": [
    "df_all_new['LowQualFinSF'] = np.where(df_all['LowQualFinSF'] == 0, 0, 1)"
   ]
  },
  {
   "cell_type": "code",
   "execution_count": 86,
   "metadata": {
    "collapsed": true
   },
   "outputs": [],
   "source": [
    "df_all_new['GrLivArea'] = np.log1p(df_all['GrLivArea'])"
   ]
  },
  {
   "cell_type": "code",
   "execution_count": 87,
   "metadata": {
    "collapsed": true
   },
   "outputs": [],
   "source": [
    "cur_var = pd.get_dummies(df_all['BsmtFullBath'].fillna(0).replace(3, 2).astype(int), 'BsmtFullBath')\n",
    "df_all_new = df_all_new.join(cur_var)"
   ]
  },
  {
   "cell_type": "code",
   "execution_count": 88,
   "metadata": {
    "collapsed": true
   },
   "outputs": [],
   "source": [
    "df_all_new['BsmtHalfBath'] = df_all['BsmtHalfBath'].fillna(0).replace(2, 1)"
   ]
  },
  {
   "cell_type": "code",
   "execution_count": 89,
   "metadata": {
    "collapsed": true
   },
   "outputs": [],
   "source": [
    "cur_var = pd.get_dummies(df_all['FullBath'].fillna(0).replace(4, 3).astype(int), 'FullBath')\n",
    "df_all_new = df_all_new.join(cur_var)"
   ]
  },
  {
   "cell_type": "code",
   "execution_count": 90,
   "metadata": {
    "collapsed": true
   },
   "outputs": [],
   "source": [
    "cur_var = pd.get_dummies(df_all['HalfBath'], 'HalfBath')\n",
    "df_all_new = df_all_new.join(cur_var)"
   ]
  },
  {
   "cell_type": "code",
   "execution_count": 91,
   "metadata": {
    "collapsed": true
   },
   "outputs": [],
   "source": [
    "cur_var = pd.get_dummies(df_all['BedroomAbvGr'].replace(8, 6), 'BedroomAbvGr')\n",
    "df_all_new = df_all_new.join(cur_var)"
   ]
  },
  {
   "cell_type": "code",
   "execution_count": 92,
   "metadata": {
    "collapsed": true
   },
   "outputs": [],
   "source": [
    "df_all_new['KitchenAbvGr'] = (df_all['KitchenAbvGr'] >= 2) * 1"
   ]
  },
  {
   "cell_type": "code",
   "execution_count": 93,
   "metadata": {
    "collapsed": true
   },
   "outputs": [],
   "source": [
    "cur_var = pd.get_dummies(df_all['KitchenQual'].fillna('TA'), 'KitchenQual')\n",
    "df_all_new = df_all_new.join(cur_var)"
   ]
  },
  {
   "cell_type": "code",
   "execution_count": 94,
   "metadata": {
    "collapsed": true
   },
   "outputs": [],
   "source": [
    "cur_var = pd.get_dummies(df_all['TotRmsAbvGrd'].replace({2:3, 13:12, 14:12, 15:12}).astype(int), 'TotRmsAbvGrd')\n",
    "df_all_new = df_all_new.join(cur_var)"
   ]
  },
  {
   "cell_type": "code",
   "execution_count": 95,
   "metadata": {
    "collapsed": true
   },
   "outputs": [],
   "source": [
    "cur_var = pd.get_dummies(df_all['Functional'].replace('Sev', 'Maj2'), 'Functional')\n",
    "df_all_new = df_all_new.join(cur_var)"
   ]
  },
  {
   "cell_type": "code",
   "execution_count": 96,
   "metadata": {
    "collapsed": true
   },
   "outputs": [],
   "source": [
    "cur_var = pd.get_dummies(df_all['Fireplaces'].replace([4], 3), 'Fireplaces')\n",
    "df_all_new = df_all_new.join(cur_var)"
   ]
  },
  {
   "cell_type": "code",
   "execution_count": 97,
   "metadata": {
    "collapsed": true
   },
   "outputs": [],
   "source": [
    "cur_var = pd.get_dummies(df_all['FireplaceQu'].fillna('None'), 'FireplaceQu')\n",
    "df_all_new = df_all_new.join(cur_var)"
   ]
  },
  {
   "cell_type": "code",
   "execution_count": 98,
   "metadata": {
    "collapsed": true
   },
   "outputs": [],
   "source": [
    "cur_var = pd.get_dummies(df_all['GarageType'].fillna('None'), 'GarageType')\n",
    "df_all_new = df_all_new.join(cur_var)"
   ]
  },
  {
   "cell_type": "code",
   "execution_count": 99,
   "metadata": {
    "collapsed": false
   },
   "outputs": [],
   "source": [
    "garage_year_built = pd.qcut(df_all['GarageYrBlt'], 5, labels=['oldest', 'old', 'middle', 'new', 'newest'])\n",
    "cur_var = pd.get_dummies(garage_year_built.astype('object').fillna('None'), 'GarageYrBlt')\n",
    "df_all_new = df_all_new.join(cur_var)"
   ]
  },
  {
   "cell_type": "code",
   "execution_count": 100,
   "metadata": {
    "collapsed": true
   },
   "outputs": [],
   "source": [
    "df_all_new['GarageCars'] = df_all['GarageCars'].replace([4, 5], 3).fillna(0)"
   ]
  },
  {
   "cell_type": "code",
   "execution_count": 105,
   "metadata": {
    "collapsed": true
   },
   "outputs": [],
   "source": [
    "df_all_new['GarageArea'] = df_all['GarageArea'].fillna(0)"
   ]
  },
  {
   "cell_type": "code",
   "execution_count": 106,
   "metadata": {
    "collapsed": true
   },
   "outputs": [],
   "source": [
    "cur_var = pd.get_dummies(df_all['GarageQual'].replace({'Po':'Fa', 'Ex':'Gd'}).fillna('None'), 'GarageQual')\n",
    "df_all_new = df_all_new.join(cur_var)"
   ]
  },
  {
   "cell_type": "code",
   "execution_count": 107,
   "metadata": {
    "collapsed": false
   },
   "outputs": [],
   "source": [
    "cur_var = pd.get_dummies(df_all['GarageCond'].replace({'Ex':'Gd'}).fillna('None'), 'GarageCond')\n",
    "df_all_new = df_all_new.join(cur_var)"
   ]
  },
  {
   "cell_type": "code",
   "execution_count": 108,
   "metadata": {
    "collapsed": true
   },
   "outputs": [],
   "source": [
    "cur_var = pd.get_dummies(df_all['PavedDrive'], 'PavedDrive')\n",
    "df_all_new = df_all_new.join(cur_var)"
   ]
  },
  {
   "cell_type": "code",
   "execution_count": 109,
   "metadata": {
    "collapsed": false
   },
   "outputs": [
    {
     "data": {
      "text/plain": [
       "1.8424328111184782"
      ]
     },
     "execution_count": 109,
     "metadata": {},
     "output_type": "execute_result"
    }
   ],
   "source": [
    "skew(df_all['WoodDeckSF'])"
   ]
  },
  {
   "cell_type": "code",
   "execution_count": 110,
   "metadata": {
    "collapsed": true
   },
   "outputs": [],
   "source": [
    "df_all_new['WoodDeckSF'] = np.log1p(df_all['WoodDeckSF'])"
   ]
  },
  {
   "cell_type": "code",
   "execution_count": 111,
   "metadata": {
    "collapsed": true
   },
   "outputs": [],
   "source": [
    "df_all_new['OpenPorchSF'] = np.log1p(df_all['OpenPorchSF'])"
   ]
  },
  {
   "cell_type": "code",
   "execution_count": 68,
   "metadata": {
    "collapsed": true
   },
   "outputs": [],
   "source": [
    "df_all_new['EnclosedPorch'] = np.log1p(df_all['EnclosedPorch'])"
   ]
  },
  {
   "cell_type": "code",
   "execution_count": 112,
   "metadata": {
    "collapsed": true
   },
   "outputs": [],
   "source": [
    "df_all_new['3SsnPorch'] = np.log1p(df_all['3SsnPorch'])"
   ]
  },
  {
   "cell_type": "code",
   "execution_count": 113,
   "metadata": {
    "collapsed": true
   },
   "outputs": [],
   "source": [
    "df_all_new['ScreenPorch'] = np.log1p(df_all['ScreenPorch'])"
   ]
  },
  {
   "cell_type": "code",
   "execution_count": 115,
   "metadata": {
    "collapsed": true
   },
   "outputs": [],
   "source": [
    "df_all_new['PoolArea'] = np.log1p(df_all['PoolArea'])"
   ]
  },
  {
   "cell_type": "code",
   "execution_count": 116,
   "metadata": {
    "collapsed": true
   },
   "outputs": [],
   "source": [
    "cur_var = pd.get_dummies(temp, 'Fence')\n",
    "df_all_new = df_all_new.join(cur_var)"
   ]
  },
  {
   "cell_type": "code",
   "execution_count": 117,
   "metadata": {
    "collapsed": true
   },
   "outputs": [],
   "source": [
    "df_all_new['MiscFeature'] = (df_all['MiscFeature'] == 'Shed') * 1"
   ]
  },
  {
   "cell_type": "code",
   "execution_count": 118,
   "metadata": {
    "collapsed": true
   },
   "outputs": [],
   "source": [
    "df_all_new['MiscVal'] = df_all['MiscVal']"
   ]
  },
  {
   "cell_type": "code",
   "execution_count": 119,
   "metadata": {
    "collapsed": true
   },
   "outputs": [],
   "source": [
    "cur_var = pd.get_dummies(df_all['MoSold'], 'MoSold')\n",
    "df_all_new = df_all_new.join(cur_var)"
   ]
  },
  {
   "cell_type": "code",
   "execution_count": 120,
   "metadata": {
    "collapsed": true
   },
   "outputs": [],
   "source": [
    "cur_var = pd.get_dummies(df_all['YrSold'], 'YrSold')\n",
    "df_all_new = df_all_new.join(cur_var)"
   ]
  },
  {
   "cell_type": "code",
   "execution_count": 121,
   "metadata": {
    "collapsed": true
   },
   "outputs": [],
   "source": [
    "cur_var = pd.get_dummies(df_all['SaleType'].fillna('WD'), \"SaleType\")\n",
    "df_all_new = df_all_new.join(cur_var)"
   ]
  },
  {
   "cell_type": "code",
   "execution_count": 122,
   "metadata": {
    "collapsed": true
   },
   "outputs": [],
   "source": [
    "cur_var = pd.get_dummies(df_all['SaleCondition'], 'SaleCondition')\n",
    "df_all_new = df_all_new.join(cur_var)"
   ]
  },
  {
   "cell_type": "code",
   "execution_count": 123,
   "metadata": {
    "collapsed": false
   },
   "outputs": [
    {
     "data": {
      "text/plain": [
       "(2919, 349)"
      ]
     },
     "execution_count": 123,
     "metadata": {},
     "output_type": "execute_result"
    }
   ],
   "source": [
    "df_all_new.shape"
   ]
  },
  {
   "cell_type": "code",
   "execution_count": 220,
   "metadata": {
    "collapsed": true
   },
   "outputs": [],
   "source": [
    "df_train_final = df_all_new.loc[df_house.index]\n",
    "df_test_final = df_all_new.loc[df_house_test.index]\n",
    "y_train_final = np.log(df_house['SalePrice']).values"
   ]
  },
  {
   "cell_type": "code",
   "execution_count": 221,
   "metadata": {
    "collapsed": false
   },
   "outputs": [
    {
     "data": {
      "image/png": "[encoded data removed]",
      "text/plain": [
       "<matplotlib.figure.Figure at 0xfbab860>"
      ]
     },
     "metadata": {},
     "output_type": "display_data"
    }
   ],
   "source": [
    "plt.scatter(df_train_final['GrLivArea'], y_train_final);"
   ]
  },
  {
   "cell_type": "code",
   "execution_count": 222,
   "metadata": {
    "collapsed": true
   },
   "outputs": [],
   "source": [
    "col_names_scale = df_train_final.columns[df_train_final.max() > 5]"
   ]
  },
  {
   "cell_type": "code",
   "execution_count": 223,
   "metadata": {
    "collapsed": false
   },
   "outputs": [
    {
     "data": {
      "text/plain": [
       "Index(['LotFrontage', 'LotArea', 'BsmtFinSF1', 'BsmtFinSF2', 'BsmtUnfSF',\n",
       "       'TotalBsmtSF', '1stFlrSF', '2ndFlrSF', 'GrLivArea', 'GarageArea',\n",
       "       'WoodDeckSF', 'OpenPorchSF', '3SsnPorch', 'ScreenPorch', 'PoolArea',\n",
       "       'MiscVal'],\n",
       "      dtype='object')"
      ]
     },
     "execution_count": 223,
     "metadata": {},
     "output_type": "execute_result"
    }
   ],
   "source": [
    "col_names_scale"
   ]
  },
  {
   "cell_type": "code",
   "execution_count": 224,
   "metadata": {
    "collapsed": true
   },
   "outputs": [],
   "source": [
    "mean_cols_train = df_train_final.loc[:, col_names_scale].mean()\n",
    "std_cols_train = df_train_final.loc[:, col_names_scale].std()\n",
    "df_train_final.loc[:, col_names_scale] = (df_train_final.loc[:, col_names_scale] - mean_cols_train) / std_cols_train"
   ]
  },
  {
   "cell_type": "code",
   "execution_count": 225,
   "metadata": {
    "collapsed": true
   },
   "outputs": [],
   "source": [
    "mean_cols_test = df_test_final.loc[:, col_names_scale].mean()\n",
    "std_cols_test = df_test_final.loc[:, col_names_scale].std()\n",
    "df_test_final.loc[:, col_names_scale] = (df_test_final.loc[:, col_names_scale] - mean_cols_test) / std_cols_test"
   ]
  },
  {
   "cell_type": "code",
   "execution_count": 226,
   "metadata": {
    "collapsed": true
   },
   "outputs": [],
   "source": [
    "X_train_final = df_train_final.values\n",
    "X_test_final = df_test_final.values"
   ]
  },
  {
   "cell_type": "code",
   "execution_count": 227,
   "metadata": {
    "collapsed": false
   },
   "outputs": [
    {
     "data": {
      "text/plain": [
       "((1460, 349), (1460,))"
      ]
     },
     "execution_count": 227,
     "metadata": {},
     "output_type": "execute_result"
    }
   ],
   "source": [
    "X_train_final.shape, y_train_final.shape"
   ]
  },
  {
   "cell_type": "code",
   "execution_count": 228,
   "metadata": {
    "collapsed": true
   },
   "outputs": [],
   "source": [
    "from sklearn.linear_model import Ridge, Lasso\n",
    "from sklearn.cross_validation import KFold, cross_val_score\n",
    "from sklearn.ensemble import ExtraTreesRegressor, RandomForestRegressor, GradientBoostingRegressor\n",
    "from sklearn.grid_search import GridSearchCV\n",
    "from sklearn.metrics.scorer import make_scorer"
   ]
  },
  {
   "cell_type": "code",
   "execution_count": 229,
   "metadata": {
    "collapsed": false
   },
   "outputs": [],
   "source": [
    "alphas = np.logspace(-3, 1.7, 100)\n",
    "test_scores = []\n",
    "for alpha in alphas:\n",
    "    clf = Ridge(alpha)\n",
    "    test_score = np.sqrt(-cross_val_score(clf, X_train_final, y_train_final, cv=10, scoring='mean_squared_error'))\n",
    "    test_scores.append(np.mean(test_score))"
   ]
  },
  {
   "cell_type": "code",
   "execution_count": 230,
   "metadata": {
    "collapsed": false
   },
   "outputs": [
    {
     "data": {
      "image/png": "[encoded data removed]",
      "text/plain": [
       "<matplotlib.figure.Figure at 0xfe09898>"
      ]
     },
     "metadata": {},
     "output_type": "display_data"
    }
   ],
   "source": [
    "plt.plot(alphas, test_scores);"
   ]
  },
  {
   "cell_type": "code",
   "execution_count": 231,
   "metadata": {
    "collapsed": false
   },
   "outputs": [
    {
     "data": {
      "text/plain": [
       "10.848096388007432"
      ]
     },
     "execution_count": 231,
     "metadata": {},
     "output_type": "execute_result"
    }
   ],
   "source": [
    "# min alpha\n",
    "alphas[np.argmin(test_scores)]"
   ]
  },
  {
   "cell_type": "code",
   "execution_count": 207,
   "metadata": {
    "collapsed": true
   },
   "outputs": [],
   "source": [
    "import warnings\n",
    "warnings.filterwarnings(\"ignore\")"
   ]
  },
  {
   "cell_type": "code",
   "execution_count": 208,
   "metadata": {
    "collapsed": false
   },
   "outputs": [
    {
     "data": {
      "text/plain": [
       "GridSearchCV(cv=None, error_score='raise',\n",
       "       estimator=GradientBoostingRegressor(alpha=0.9, init=None, learning_rate=0.1, loss='ls',\n",
       "             max_depth=3, max_features=None, max_leaf_nodes=None,\n",
       "             min_samples_leaf=1, min_samples_split=2,\n",
       "             min_weight_fraction_leaf=0.0, n_estimators=100,\n",
       "             presort='auto', random_state=None, subsample=1.0, verbose=0,\n",
       "             warm_start=False),\n",
       "       fit_params={}, iid=True, n_jobs=-1,\n",
       "       param_grid={'n_estimators': [2500, 3000], 'learning_rate': [0.03], 'max_depth': [2], 'max_features': [0.05]},\n",
       "       pre_dispatch='2*n_jobs', refit=True, scoring='mean_squared_error',\n",
       "       verbose=0)"
      ]
     },
     "execution_count": 208,
     "metadata": {},
     "output_type": "execute_result"
    }
   ],
   "source": [
    "gbr = GradientBoostingRegressor()\n",
    "parameters = {'max_features':[.05], 'n_estimators':[2500, 3000],\n",
    "             'learning_rate':[.03], 'max_depth': [2]}\n",
    "clf = GridSearchCV(gbr, parameters, n_jobs=-1, scoring='mean_squared_error')\n",
    "clf.fit(X_train_final, y_train_final)"
   ]
  },
  {
   "cell_type": "code",
   "execution_count": 209,
   "metadata": {
    "collapsed": false
   },
   "outputs": [
    {
     "data": {
      "text/plain": [
       "{'learning_rate': 0.03,\n",
       " 'max_depth': 2,\n",
       " 'max_features': 0.05,\n",
       " 'n_estimators': 3000}"
      ]
     },
     "execution_count": 209,
     "metadata": {},
     "output_type": "execute_result"
    }
   ],
   "source": [
    "clf.best_params_"
   ]
  },
  {
   "cell_type": "code",
   "execution_count": 210,
   "metadata": {
    "collapsed": false
   },
   "outputs": [
    {
     "data": {
      "text/plain": [
       "[mean: -0.00011, std: 0.00002, params: {'max_depth': 2, 'learning_rate': 0.03, 'n_estimators': 2500, 'max_features': 0.05},\n",
       " mean: -0.00011, std: 0.00002, params: {'max_depth': 2, 'learning_rate': 0.03, 'max_features': 0.05, 'n_estimators': 3000}]"
      ]
     },
     "execution_count": 210,
     "metadata": {},
     "output_type": "execute_result"
    }
   ],
   "source": [
    "clf.grid_scores_"
   ]
  },
  {
   "cell_type": "code",
   "execution_count": 211,
   "metadata": {
    "collapsed": false
   },
   "outputs": [
    {
     "data": {
      "text/plain": [
       "0.01035545107722201"
      ]
     },
     "execution_count": 211,
     "metadata": {},
     "output_type": "execute_result"
    }
   ],
   "source": [
    "np.sqrt(-clf.grid_scores_[1].mean_validation_score)"
   ]
  },
  {
   "cell_type": "code",
   "execution_count": 167,
   "metadata": {
    "collapsed": false
   },
   "outputs": [
    {
     "data": {
      "text/plain": [
       "GridSearchCV(cv=None, error_score='raise',\n",
       "       estimator=GradientBoostingRegressor(alpha=0.9, init=None, learning_rate=0.1, loss='ls',\n",
       "             max_depth=3, max_features=None, max_leaf_nodes=None,\n",
       "             min_samples_leaf=1, min_samples_split=2,\n",
       "             min_weight_fraction_leaf=0.0, n_estimators=100,\n",
       "             presort='auto', random_state=None, subsample=1.0, verbose=0,\n",
       "             warm_start=False),\n",
       "       fit_params={}, iid=True, n_jobs=-1,\n",
       "       param_grid={'n_estimators': [4000], 'learning_rate': [0.025], 'max_depth': [3], 'max_features': [0.05]},\n",
       "       pre_dispatch='2*n_jobs', refit=True, scoring='mean_squared_error',\n",
       "       verbose=0)"
      ]
     },
     "execution_count": 167,
     "metadata": {},
     "output_type": "execute_result"
    }
   ],
   "source": [
    "gbr = GradientBoostingRegressor()\n",
    "parameters = {'max_features':[.05], 'n_estimators':[4000],\n",
    "             'learning_rate':[.025], 'max_depth': [3]}\n",
    "clf = GridSearchCV(gbr, parameters, n_jobs=-1, scoring='mean_squared_error')\n",
    "clf.fit(X_train_final, y_train_final)"
   ]
  },
  {
   "cell_type": "code",
   "execution_count": 168,
   "metadata": {
    "collapsed": false
   },
   "outputs": [
    {
     "data": {
      "text/plain": [
       "{'learning_rate': 0.025,\n",
       " 'max_depth': 3,\n",
       " 'max_features': 0.05,\n",
       " 'n_estimators': 4000}"
      ]
     },
     "execution_count": 168,
     "metadata": {},
     "output_type": "execute_result"
    }
   ],
   "source": [
    "clf.best_params_"
   ]
  },
  {
   "cell_type": "code",
   "execution_count": 169,
   "metadata": {
    "collapsed": false
   },
   "outputs": [
    {
     "data": {
      "text/plain": [
       "[mean: -0.01539, std: 0.00286, params: {'max_depth': 3, 'learning_rate': 0.025, 'max_features': 0.05, 'n_estimators': 4000}]"
      ]
     },
     "execution_count": 169,
     "metadata": {},
     "output_type": "execute_result"
    }
   ],
   "source": [
    "clf.grid_scores_"
   ]
  },
  {
   "cell_type": "code",
   "execution_count": 170,
   "metadata": {
    "collapsed": false
   },
   "outputs": [
    {
     "data": {
      "text/plain": [
       "0.12404208767279803"
      ]
     },
     "execution_count": 170,
     "metadata": {},
     "output_type": "execute_result"
    }
   ],
   "source": [
    "np.sqrt(-clf.grid_scores_[0].mean_validation_score)"
   ]
  },
  {
   "cell_type": "code",
   "execution_count": 212,
   "metadata": {
    "collapsed": true
   },
   "outputs": [],
   "source": [
    "ridge = Ridge(alpha=10)\n",
    "gbr = GradientBoostingRegressor(learning_rate=.03, max_depth=2, max_features=.05, n_estimators=3000)"
   ]
  },
  {
   "cell_type": "code",
   "execution_count": 213,
   "metadata": {
    "collapsed": false
   },
   "outputs": [
    {
     "data": {
      "text/plain": [
       "GradientBoostingRegressor(alpha=0.9, init=None, learning_rate=0.03, loss='ls',\n",
       "             max_depth=2, max_features=0.05, max_leaf_nodes=None,\n",
       "             min_samples_leaf=1, min_samples_split=2,\n",
       "             min_weight_fraction_leaf=0.0, n_estimators=3000,\n",
       "             presort='auto', random_state=None, subsample=1.0, verbose=0,\n",
       "             warm_start=False)"
      ]
     },
     "execution_count": 213,
     "metadata": {},
     "output_type": "execute_result"
    }
   ],
   "source": [
    "ridge.fit(X_train_final, y_train_final)\n",
    "gbr.fit(X_train_final, y_train_final)"
   ]
  },
  {
   "cell_type": "code",
   "execution_count": 214,
   "metadata": {
    "collapsed": true
   },
   "outputs": [],
   "source": [
    "y_ridge = np.exp(ridge.predict(X_test_final))\n",
    "y_gbr = np.exp(gbr.predict(X_test_final))"
   ]
  },
  {
   "cell_type": "code",
   "execution_count": 215,
   "metadata": {
    "collapsed": true
   },
   "outputs": [],
   "source": [
    "y_s = pd.DataFrame({'y_ridge':y_ridge, 'y_gbr': y_gbr})"
   ]
  },
  {
   "cell_type": "code",
   "execution_count": 216,
   "metadata": {
    "collapsed": false
   },
   "outputs": [],
   "source": [
    "y_s['y_diff'] = np.abs(y_ridge - y_gbr)"
   ]
  },
  {
   "cell_type": "code",
   "execution_count": 217,
   "metadata": {
    "collapsed": false
   },
   "outputs": [
    {
     "data": {
      "text/html": [
       "<div>\n",
       "<table border=\"1\" class=\"dataframe\">\n",
       "  <thead>\n",
       "    <tr style=\"text-align: right;\">\n",
       "      <th></th>\n",
       "      <th>y_gbr</th>\n",
       "      <th>y_ridge</th>\n",
       "      <th>y_diff</th>\n",
       "    </tr>\n",
       "  </thead>\n",
       "  <tbody>\n",
       "    <tr>\n",
       "      <th>1089</th>\n",
       "      <td>227267.767107</td>\n",
       "      <td>634033.464610</td>\n",
       "      <td>406765.697502</td>\n",
       "    </tr>\n",
       "    <tr>\n",
       "      <th>245</th>\n",
       "      <td>281210.680567</td>\n",
       "      <td>436400.089363</td>\n",
       "      <td>155189.408796</td>\n",
       "    </tr>\n",
       "    <tr>\n",
       "      <th>514</th>\n",
       "      <td>288618.378244</td>\n",
       "      <td>437689.195972</td>\n",
       "      <td>149070.817728</td>\n",
       "    </tr>\n",
       "    <tr>\n",
       "      <th>203</th>\n",
       "      <td>311729.623992</td>\n",
       "      <td>460115.649942</td>\n",
       "      <td>148386.025950</td>\n",
       "    </tr>\n",
       "    <tr>\n",
       "      <th>879</th>\n",
       "      <td>417032.084311</td>\n",
       "      <td>321876.796280</td>\n",
       "      <td>95155.288031</td>\n",
       "    </tr>\n",
       "    <tr>\n",
       "      <th>728</th>\n",
       "      <td>208031.345325</td>\n",
       "      <td>289140.242500</td>\n",
       "      <td>81108.897175</td>\n",
       "    </tr>\n",
       "    <tr>\n",
       "      <th>200</th>\n",
       "      <td>504423.331393</td>\n",
       "      <td>423839.872501</td>\n",
       "      <td>80583.458892</td>\n",
       "    </tr>\n",
       "    <tr>\n",
       "      <th>1229</th>\n",
       "      <td>481968.369715</td>\n",
       "      <td>403690.849190</td>\n",
       "      <td>78277.520525</td>\n",
       "    </tr>\n",
       "    <tr>\n",
       "      <th>1251</th>\n",
       "      <td>407456.343229</td>\n",
       "      <td>339477.469648</td>\n",
       "      <td>67978.873580</td>\n",
       "    </tr>\n",
       "    <tr>\n",
       "      <th>1250</th>\n",
       "      <td>275993.163029</td>\n",
       "      <td>208057.460447</td>\n",
       "      <td>67935.702582</td>\n",
       "    </tr>\n",
       "  </tbody>\n",
       "</table>\n",
       "</div>"
      ],
      "text/plain": [
       "              y_gbr        y_ridge         y_diff\n",
       "1089  227267.767107  634033.464610  406765.697502\n",
       "245   281210.680567  436400.089363  155189.408796\n",
       "514   288618.378244  437689.195972  149070.817728\n",
       "203   311729.623992  460115.649942  148386.025950\n",
       "879   417032.084311  321876.796280   95155.288031\n",
       "728   208031.345325  289140.242500   81108.897175\n",
       "200   504423.331393  423839.872501   80583.458892\n",
       "1229  481968.369715  403690.849190   78277.520525\n",
       "1251  407456.343229  339477.469648   67978.873580\n",
       "1250  275993.163029  208057.460447   67935.702582"
      ]
     },
     "execution_count": 217,
     "metadata": {},
     "output_type": "execute_result"
    }
   ],
   "source": [
    "y_s.sort_values('y_diff', ascending=False).head(10)"
   ]
  },
  {
   "cell_type": "code",
   "execution_count": 218,
   "metadata": {
    "collapsed": true
   },
   "outputs": [],
   "source": [
    "sub_df = pd.DataFrame({'Id': df_house_test.index, 'SalePrice': (y_ridge + y_gbr) / 2})"
   ]
  },
  {
   "cell_type": "code",
   "execution_count": 219,
   "metadata": {
    "collapsed": false
   },
   "outputs": [],
   "source": [
    "sub_df.to_csv('../data/submissions/submission22.csv', index=False)"
   ]
  },
  {
   "cell_type": "code",
   "execution_count": 182,
   "metadata": {
    "collapsed": false
   },
   "outputs": [],
   "source": [
    "a=gbr.estimators_[0][0]"
   ]
  },
  {
   "cell_type": "code",
   "execution_count": 183,
   "metadata": {
    "collapsed": false
   },
   "outputs": [
    {
     "data": {
      "text/plain": [
       "(349,)"
      ]
     },
     "execution_count": 183,
     "metadata": {},
     "output_type": "execute_result"
    }
   ],
   "source": [
    "gbr.feature_importances_.shape"
   ]
  },
  {
   "cell_type": "code",
   "execution_count": 239,
   "metadata": {
    "collapsed": false
   },
   "outputs": [],
   "source": [
    "fi = pd.Series(index=df_train_final.columns, data=gbr.feature_importances_)"
   ]
  },
  {
   "cell_type": "code",
   "execution_count": 243,
   "metadata": {
    "collapsed": false
   },
   "outputs": [],
   "source": [
    "top_cols = fi.sort_values(ascending=False).index.values[:15]"
   ]
  },
  {
   "cell_type": "code",
   "execution_count": 185,
   "metadata": {
    "collapsed": false
   },
   "outputs": [],
   "source": [
    "ridge_feat = pd.Series(index=df_train_final.columns, data=ridge.coef_)"
   ]
  },
  {
   "cell_type": "code",
   "execution_count": 186,
   "metadata": {
    "collapsed": false
   },
   "outputs": [
    {
     "data": {
      "text/plain": [
       "GrLivArea                    0.125249\n",
       "OverallQual_9                0.107377\n",
       "Neighborhood_StoneBr         0.085738\n",
       "Functional_Typ               0.080092\n",
       "Neighborhood_Crawfor         0.078836\n",
       "OverallQual_8                0.069265\n",
       "OverallCond_9                0.067256\n",
       "FullBath_3                   0.066811\n",
       "Neighborhood_NridgHt         0.066396\n",
       "Exterior1st_BrkFace          0.059076\n",
       "Neighborhood_NoRidge         0.058956\n",
       "CentralAir                   0.058828\n",
       "OverallCond_8                0.058377\n",
       "MSZoning_FV                  0.057040\n",
       "OverallCond_7                0.056119\n",
       "KitchenQual_Ex               0.055711\n",
       "Fireplaces_2                 0.051757\n",
       "GarageCars                   0.048046\n",
       "GarageQual_Gd                0.047866\n",
       "Condition1_Norm              0.044199\n",
       "MSZoning_RL                  0.043077\n",
       "Neighborhood_Somerst         0.042760\n",
       "TotalBsmtSF                  0.041597\n",
       "TotRmsAbvGrd_10              0.040937\n",
       "MSZoning_RH                  0.040032\n",
       "BsmtQual_Ex                  0.039361\n",
       "OverallQual_10               0.037993\n",
       "LotArea                      0.037753\n",
       "Heating_GasW                 0.037360\n",
       "ExterCond_Ex                 0.034973\n",
       "                               ...   \n",
       "OverallQual_5               -0.030347\n",
       "BedroomAbvGr_5              -0.030835\n",
       "TotRmsAbvGrd_11             -0.031067\n",
       "LandContour_Bnk             -0.031717\n",
       "GarageQual_Fa               -0.032016\n",
       "GarageCond_Fa               -0.032802\n",
       "YearRemodAdd_[1950, 1960]   -0.033063\n",
       "GarageType_2Types           -0.033400\n",
       "SaleType_WD                 -0.033779\n",
       "BedroomAbvGr_1              -0.034204\n",
       "Heating_Grav                -0.036166\n",
       "Neighborhood_Mitchel        -0.036926\n",
       "MSSubClass_160              -0.037844\n",
       "Condition1_RRAe             -0.039365\n",
       "ExterCond_Fa                -0.042034\n",
       "SaleCondition_Abnorml       -0.043478\n",
       "Neighborhood_OldTown        -0.043754\n",
       "YearBuilt_[1872, 1924]      -0.044351\n",
       "Neighborhood_MeadowV        -0.047581\n",
       "KitchenAbvGr                -0.050828\n",
       "OverallQual_2               -0.052059\n",
       "Neighborhood_IDOTRR         -0.053282\n",
       "OverallCond_4               -0.053579\n",
       "OverallQual_4               -0.057329\n",
       "Functional_Maj2             -0.063899\n",
       "Fireplaces_3                -0.064133\n",
       "Neighborhood_Edwards        -0.080868\n",
       "OverallQual_3               -0.085685\n",
       "OverallCond_3               -0.100674\n",
       "MSZoning_C (all)            -0.152864\n",
       "dtype: float64"
      ]
     },
     "execution_count": 186,
     "metadata": {},
     "output_type": "execute_result"
    }
   ],
   "source": [
    "ridge_feat.sort_values(ascending=False)"
   ]
  },
  {
   "cell_type": "markdown",
   "metadata": {},
   "source": [
    "### Calculate Press Statistic"
   ]
  },
  {
   "cell_type": "code",
   "execution_count": 233,
   "metadata": {
    "collapsed": false
   },
   "outputs": [],
   "source": [
    "X= X_train_final.copy()"
   ]
  },
  {
   "cell_type": "code",
   "execution_count": 283,
   "metadata": {
    "collapsed": false
   },
   "outputs": [],
   "source": [
    "def find_press(lamb):\n",
    "    hat = np.dot(np.dot(X, np.linalg.pinv(np.dot(X.T, X) + lamb * np.eye(X.shape[1]))), X.T)\n",
    "    y_pred_hat = np.dot(hat, y_train_final)\n",
    "    error = y_train_final - y_pred_hat\n",
    "    hat_diag = hat.diagonal()\n",
    "    return error / hat_diag"
   ]
  },
  {
   "cell_type": "code",
   "execution_count": 285,
   "metadata": {
    "collapsed": true
   },
   "outputs": [],
   "source": [
    "press_ridge = find_press(10)\n",
    "press_lr = find_press(0)"
   ]
  },
  {
   "cell_type": "code",
   "execution_count": 291,
   "metadata": {
    "collapsed": false
   },
   "outputs": [],
   "source": [
    "press_ser = pd.Series(index=df_train_final.index, data=press_ridge)"
   ]
  },
  {
   "cell_type": "code",
   "execution_count": 293,
   "metadata": {
    "collapsed": false
   },
   "outputs": [
    {
     "data": {
      "text/plain": [
       "Id\n",
       "14      4.125821\n",
       "463    -4.104819\n",
       "524    -4.303699\n",
       "633    -5.701849\n",
       "875    -4.659054\n",
       "1325   -7.197355\n",
       "1454   -4.315564\n",
       "dtype: float64"
      ]
     },
     "execution_count": 293,
     "metadata": {},
     "output_type": "execute_result"
    }
   ],
   "source": [
    "press_ser[np.abs(press_ridge) > 4]"
   ]
  },
  {
   "cell_type": "code",
   "execution_count": 369,
   "metadata": {
    "collapsed": false
   },
   "outputs": [
    {
     "data": {
      "text/plain": [
       "-0.67449014169062071"
      ]
     },
     "execution_count": 369,
     "metadata": {},
     "output_type": "execute_result"
    }
   ],
   "source": [
    "press_ser.loc[1012]"
   ]
  },
  {
   "cell_type": "code",
   "execution_count": 287,
   "metadata": {
    "collapsed": false
   },
   "outputs": [
    {
     "data": {
      "text/plain": [
       "<matplotlib.collections.PathCollection at 0xfc5b630>"
      ]
     },
     "execution_count": 287,
     "metadata": {},
     "output_type": "execute_result"
    },
    {
     "data": {
      "image/png": "[encoded data removed]",
      "text/plain": [
       "<matplotlib.figure.Figure at 0xfaad0b8>"
      ]
     },
     "metadata": {},
     "output_type": "display_data"
    }
   ],
   "source": [
    "plt.scatter(y_train_final, press_ridge)"
   ]
  },
  {
   "cell_type": "code",
   "execution_count": 288,
   "metadata": {
    "collapsed": false
   },
   "outputs": [
    {
     "data": {
      "text/plain": [
       "<matplotlib.collections.PathCollection at 0x108537f0>"
      ]
     },
     "execution_count": 288,
     "metadata": {},
     "output_type": "execute_result"
    },
    {
     "data": {
      "image/png": "[encoded data removed]",
      "text/plain": [
       "<matplotlib.figure.Figure at 0xfe584e0>"
      ]
     },
     "metadata": {},
     "output_type": "display_data"
    }
   ],
   "source": [
    "plt.scatter(y_train_final, press)"
   ]
  },
  {
   "cell_type": "code",
   "execution_count": 300,
   "metadata": {
    "collapsed": false
   },
   "outputs": [],
   "source": [
    "ridge_coefs = pd.Series(index=df_train_final.columns, data=np.abs(ridge.coef_))"
   ]
  },
  {
   "cell_type": "code",
   "execution_count": 361,
   "metadata": {
    "collapsed": false
   },
   "outputs": [
    {
     "data": {
      "text/plain": [
       "(147000, 82500)"
      ]
     },
     "execution_count": 361,
     "metadata": {},
     "output_type": "execute_result"
    }
   ],
   "source": [
    "df_house.loc[1325, 'SalePrice'], df_house.loc[633, 'SalePrice']"
   ]
  },
  {
   "cell_type": "code",
   "execution_count": 336,
   "metadata": {
    "collapsed": true
   },
   "outputs": [],
   "source": [
    "lasso = Lasso(alpha=.001)"
   ]
  },
  {
   "cell_type": "code",
   "execution_count": 337,
   "metadata": {
    "collapsed": false
   },
   "outputs": [
    {
     "data": {
      "text/plain": [
       "Lasso(alpha=0.001, copy_X=True, fit_intercept=True, max_iter=1000,\n",
       "   normalize=False, positive=False, precompute=False, random_state=None,\n",
       "   selection='cyclic', tol=0.0001, warm_start=False)"
      ]
     },
     "execution_count": 337,
     "metadata": {},
     "output_type": "execute_result"
    }
   ],
   "source": [
    "lasso.fit(df_train_final, y_train_final)"
   ]
  },
  {
   "cell_type": "code",
   "execution_count": 338,
   "metadata": {
    "collapsed": false
   },
   "outputs": [
    {
     "data": {
      "text/plain": [
       "<matplotlib.collections.PathCollection at 0x10e05940>"
      ]
     },
     "execution_count": 338,
     "metadata": {},
     "output_type": "execute_result"
    },
    {
     "data": {
      "image/png": "[encoded data removed]",
      "text/plain": [
       "<matplotlib.figure.Figure at 0x10d5f630>"
      ]
     },
     "metadata": {},
     "output_type": "display_data"
    }
   ],
   "source": [
    "plt.scatter(lasso.predict(df_train_final), ridge.predict(df_train_final))"
   ]
  },
  {
   "cell_type": "code",
   "execution_count": 340,
   "metadata": {
    "collapsed": true
   },
   "outputs": [],
   "source": [
    "lasso_coefs = pd.Series(index=df_train_final.columns, data=lasso.coef_)\n",
    "lasso_coefs = lasso_coefs[lasso_coefs != 0]\n",
    "lasso_coefs = lasso_coefs.loc[lasso_coefs.abs().order(ascending=False).index]"
   ]
  },
  {
   "cell_type": "code",
   "execution_count": 342,
   "metadata": {
    "collapsed": false
   },
   "outputs": [
    {
     "data": {
      "text/plain": [
       "MSZoning_C (all)            -0.277089\n",
       "OverallCond_3               -0.133373\n",
       "GrLivArea                    0.133024\n",
       "OverallQual_9                0.112360\n",
       "Functional_Typ               0.097858\n",
       "Neighborhood_Crawfor         0.082380\n",
       "OverallQual_8                0.078448\n",
       "KitchenQual_Ex               0.067456\n",
       "SaleCondition_Abnorml       -0.067023\n",
       "Neighborhood_NridgHt         0.064691\n",
       "OverallQual_3               -0.064336\n",
       "OverallCond_4               -0.062626\n",
       "Neighborhood_StoneBr         0.062350\n",
       "FullBath_3                   0.061891\n",
       "CentralAir                   0.060978\n",
       "BsmtQual_Ex                  0.056207\n",
       "GarageCars                   0.055786\n",
       "Neighborhood_Edwards        -0.055628\n",
       "Exterior1st_BrkFace          0.052830\n",
       "YearRemodAdd_[1950, 1960]   -0.051041\n",
       "KitchenAbvGr                -0.050544\n",
       "Condition1_Norm              0.050280\n",
       "Neighborhood_NoRidge         0.049924\n",
       "OverallQual_4               -0.048169\n",
       "ExterCond_Fa                -0.044870\n",
       "Neighborhood_Somerst         0.043710\n",
       "BsmtExposure_Gd              0.038719\n",
       "MSZoning_RM                 -0.037732\n",
       "MSSubClass_30               -0.037511\n",
       "LotArea                      0.036996\n",
       "dtype: float64"
      ]
     },
     "execution_count": 342,
     "metadata": {},
     "output_type": "execute_result"
    }
   ],
   "source": [
    "lasso_coefs.head(30)"
   ]
  },
  {
   "cell_type": "code",
   "execution_count": 351,
   "metadata": {
    "collapsed": false
   },
   "outputs": [],
   "source": [
    "orig_lasso_var = lasso_coefs.index.str.split('_').str.get(0).unique()"
   ]
  },
  {
   "cell_type": "code",
   "execution_count": 370,
   "metadata": {
    "collapsed": false
   },
   "outputs": [
    {
     "data": {
      "text/plain": [
       "MSZoning              RL\n",
       "OverallCond            5\n",
       "GrLivArea           1411\n",
       "OverallQual            7\n",
       "Functional           Typ\n",
       "Neighborhood      NWAmes\n",
       "KitchenQual           TA\n",
       "SaleCondition     Family\n",
       "FullBath               2\n",
       "CentralAir             Y\n",
       "BsmtQual              TA\n",
       "GarageCars             2\n",
       "Exterior1st      Plywood\n",
       "YearRemodAdd        1977\n",
       "KitchenAbvGr           1\n",
       "Condition1          Norm\n",
       "ExterCond             Gd\n",
       "BsmtExposure          No\n",
       "MSSubClass            20\n",
       "LotArea            11900\n",
       "HeatingQC             TA\n",
       "ExterQual             TA\n",
       "YearBuilt           1977\n",
       "LandContour          Lvl\n",
       "Fireplaces             1\n",
       "GarageYrBlt         1977\n",
       "TotalBsmtSF         1386\n",
       "1stFlrSF            1411\n",
       "BsmtFinSF1           822\n",
       "HalfBath               0\n",
       "Foundation        CBlock\n",
       "TotRmsAbvGrd           6\n",
       "LotConfig         Inside\n",
       "BsmtFinType1         ALQ\n",
       "GarageQual            TA\n",
       "SaleType              WD\n",
       "BsmtFullBath           0\n",
       "ScreenPorch            0\n",
       "BedroomAbvGr           3\n",
       "MoSold                 4\n",
       "WoodDeckSF           192\n",
       "GarageCond            TA\n",
       "BldgType            1Fam\n",
       "YrSold              2009\n",
       "LotFrontage           85\n",
       "BsmtUnfSF            564\n",
       "GarageType        Attchd\n",
       "PavedDrive             Y\n",
       "OpenPorchSF            0\n",
       "Exterior2nd      Plywood\n",
       "GarageArea           544\n",
       "3SsnPorch              0\n",
       "BsmtFinSF2             0\n",
       "PoolArea               0\n",
       "FireplaceQu           TA\n",
       "RoofStyle            Hip\n",
       "2ndFlrSF               0\n",
       "HouseStyle        1Story\n",
       "Name: 633, dtype: object"
      ]
     },
     "execution_count": 370,
     "metadata": {},
     "output_type": "execute_result"
    }
   ],
   "source": [
    "df_house.loc[633, orig_lasso_var]"
   ]
  },
  {
   "cell_type": "code",
   "execution_count": 380,
   "metadata": {
    "collapsed": false
   },
   "outputs": [
    {
     "data": {
      "text/plain": [
       "OverallCond\n",
       "3    197000\n",
       "4    172166\n",
       "5    208027\n",
       "6    205423\n",
       "7    213999\n",
       "8    195368\n",
       "9    214266\n",
       "Name: SalePrice, dtype: int64"
      ]
     },
     "execution_count": 380,
     "metadata": {},
     "output_type": "execute_result"
    }
   ],
   "source": [
    "df_house.loc[df_house['OverallQual'] == 7].groupby('OverallCond')['SalePrice'].mean()"
   ]
  },
  {
   "cell_type": "code",
   "execution_count": 372,
   "metadata": {
    "collapsed": false
   },
   "outputs": [
    {
     "data": {
      "text/plain": [
       "OverallQual  MSZoning\n",
       "1            RL           50150\n",
       "2            C (all)      35311\n",
       "             RL           60000\n",
       "             RM           60000\n",
       "3            C (all)      83000\n",
       "             RH           79000\n",
       "             RL           85166\n",
       "             RM           96495\n",
       "4            C (all)      70815\n",
       "             RH           94500\n",
       "             RL          117627\n",
       "             RM           95122\n",
       "5            C (all)      55993\n",
       "             RH          143055\n",
       "             RL          138003\n",
       "             RM          114977\n",
       "6            C (all)     133900\n",
       "             FV          181053\n",
       "             RH          140933\n",
       "             RL          169641\n",
       "             RM          127431\n",
       "7            FV          196616\n",
       "             RH          133000\n",
       "             RL          213831\n",
       "             RM          163828\n",
       "8            FV          250776\n",
       "             RL          279381\n",
       "             RM          225583\n",
       "9            FV          349889\n",
       "             RL          368372\n",
       "10           FV          310000\n",
       "             RL          452306\n",
       "             RM          400000\n",
       "Name: SalePrice, dtype: int64"
      ]
     },
     "execution_count": 372,
     "metadata": {},
     "output_type": "execute_result"
    }
   ],
   "source": [
    "df_house.groupby(['OverallQual', 'MSZoning'])['SalePrice'].mean()"
   ]
  },
  {
   "cell_type": "code",
   "execution_count": 373,
   "metadata": {
    "collapsed": false
   },
   "outputs": [
    {
     "data": {
      "text/plain": [
       "82500"
      ]
     },
     "execution_count": 373,
     "metadata": {},
     "output_type": "execute_result"
    }
   ],
   "source": [
    "df_house.loc[633, 'SalePrice']"
   ]
  },
  {
   "cell_type": "code",
   "execution_count": 190,
   "metadata": {
    "collapsed": false
   },
   "outputs": [],
   "source": [
    "# press\n",
    "y_train_pred = ridge.predict(X_train_final)\n",
    "y_train_pred = gbr.predict(X_train_final)"
   ]
  },
  {
   "cell_type": "code",
   "execution_count": 191,
   "metadata": {
    "collapsed": true
   },
   "outputs": [],
   "source": [
    "mse = np.sqrt(np.mean((y_train_final - y_train_pred)**2))"
   ]
  },
  {
   "cell_type": "code",
   "execution_count": 192,
   "metadata": {
    "collapsed": false
   },
   "outputs": [
    {
     "data": {
      "text/plain": [
       "<matplotlib.collections.PathCollection at 0xfcff860>"
      ]
     },
     "execution_count": 192,
     "metadata": {},
     "output_type": "execute_result"
    },
    {
     "data": {
      "image/png": "[encoded data removed]",
      "text/plain": [
       "<matplotlib.figure.Figure at 0xfcd4588>"
      ]
     },
     "metadata": {},
     "output_type": "display_data"
    }
   ],
   "source": [
    "plt.scatter(y_train_final, (y_train_final - y_train_pred) / mse)"
   ]
  },
  {
   "cell_type": "code",
   "execution_count": 193,
   "metadata": {
    "collapsed": true
   },
   "outputs": [],
   "source": [
    "import seaborn as sns"
   ]
  },
  {
   "cell_type": "code",
   "execution_count": 194,
   "metadata": {
    "collapsed": false
   },
   "outputs": [
    {
     "data": {
      "text/plain": [
       "<matplotlib.axes._subplots.AxesSubplot at 0xfce7048>"
      ]
     },
     "execution_count": 194,
     "metadata": {},
     "output_type": "execute_result"
    },
    {
     "data": {
      "image/png": "[encoded data removed]",
      "text/plain": [
       "<matplotlib.figure.Figure at 0xfd0c668>"
      ]
     },
     "metadata": {},
     "output_type": "display_data"
    }
   ],
   "source": [
    "sns.regplot(y_train_final, (y_train_final - y_train_pred) / mse)"
   ]
  },
  {
   "cell_type": "code",
   "execution_count": null,
   "metadata": {
    "collapsed": true
   },
   "outputs": [],
   "source": []
  }
 ],
 "metadata": {
  "kernelspec": {
   "display_name": "Python 3",
   "language": "python",
   "name": "python3"
  },
  "language_info": {
   "codemirror_mode": {
    "name": "ipython",
    "version": 3
   },
   "file_extension": ".py",
   "mimetype": "text/x-python",
   "name": "python",
   "nbconvert_exporter": "python",
   "pygments_lexer": "ipython3",
   "version": "3.5.1"
  }
 },
 "nbformat": 4,
 "nbformat_minor": 0
}
