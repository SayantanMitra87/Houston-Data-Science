{
 "cells": [
  {
   "cell_type": "code",
   "execution_count": 1,
   "metadata": {
    "collapsed": true
   },
   "outputs": [],
   "source": [
    "import pandas as pd\n",
    "import matplotlib.pyplot as plt\n",
    "import numpy as np\n",
    "import seaborn as sns\n",
    "from scipy.stats import skew\n",
    "%matplotlib inline\n",
    "\n",
    "from sklearn.linear_model import Ridge, Lasso\n",
    "from sklearn.cross_validation import KFold, cross_val_score\n",
    "from sklearn.ensemble import ExtraTreesRegressor, RandomForestRegressor, GradientBoostingRegressor\n",
    "from sklearn.grid_search import GridSearchCV\n",
    "from sklearn.kernel_ridge import KernelRidge\n",
    "from sklearn.svm import SVR\n",
    "\n",
    "import warnings\n",
    "warnings.filterwarnings(\"ignore\")"
   ]
  },
  {
   "cell_type": "code",
   "execution_count": 139,
   "metadata": {
    "collapsed": false
   },
   "outputs": [
    {
     "data": {
      "text/plain": [
       "GasA     1428\n",
       "GasW       18\n",
       "Grav        7\n",
       "Wall        4\n",
       "OthW        2\n",
       "Floor       1\n",
       "Name: Heating, dtype: int64"
      ]
     },
     "execution_count": 139,
     "metadata": {},
     "output_type": "execute_result"
    }
   ],
   "source": [
    "df_house['Heating'].value_counts()"
   ]
  },
  {
   "cell_type": "code",
   "execution_count": 160,
   "metadata": {
    "collapsed": false
   },
   "outputs": [],
   "source": [
    "df_house = pd.read_csv('../data/train.csv', index_col=0)\n",
    "df_house_test = pd.read_csv('../data/test.csv', index_col=0)\n",
    "df_all = pd.concat((df_house.iloc[:, :-1], df_house_test))\n",
    "y_train = np.log(df_house['SalePrice'])\n",
    "\n",
    "# feature engineering\n",
    "df_all['MSSubClass'] = df_all['MSSubClass'].replace([40, 150], 'Other')\n",
    "df_all['MSZoning'] = df_all['MSZoning'].fillna('RL')\n",
    "df_all['OverallQual'] = df_all['OverallQual'].map(lambda x: 2 if x < 3 else x).astype(str)\n",
    "df_all['Fireplaces'] = df_all['Fireplaces'].replace(4, 3)\n",
    "df_all['GarageQual'] = df_all['GarageQual'].replace({'Po':'Fa', 'Ex':'Gd'})\n",
    "df_all['GarageCond'] = df_all['GarageCond'].replace({'Ex':'Gd'})\n",
    "df_all['KitchenQual'] = df_all['KitchenQual'].fillna('TA')\n",
    "df_all['Exterior1st'] = df_all['Exterior1st'].replace(['BrkComm', 'AsphShn', 'Stone', 'CBlock', 'ImStucc'], 'Other')\n",
    "df_all['Exterior2nd'] = df_all['Exterior2nd'].replace(['Brk Cmn', 'AsphShn', 'Stone', 'CBlock'], 'Other')\n",
    "df_all['BsmtHalfBath'] = df_all['BsmtHalfBath'].fillna(0).replace(2, 1)\n",
    "df_all['BedroomAbvGr'] = df_all['BedroomAbvGr'].replace(8, 6).astype(str)\n",
    "df_all['Functional'] = df_all['Functional'].replace('Sev', 'Maj2')\n",
    "df_all['LowQualFinSF'] = np.where(df_all['LowQualFinSF'] == 0, 0, 1)\n",
    "df_all['MiscFeature'] = (df_all['MiscFeature'] == 'Shed') * 1\n",
    "df_all['Street'] = 1 * (df_all['Street'] == 'Pave')\n",
    "df_all['HeatingQC'] = df_all['HeatingQC'].replace('Po', 'Fa')\n",
    "df_all['Electrical'] = df_all['Electrical'].fillna('Other').replace(['FuseP', 'Mix'], 'Other')\n",
    "df_all['KitchenAbvGr'] = (df_all['KitchenAbvGr'] >= 2) * 1\n",
    "\n",
    "df_dummy_all = pd.get_dummies(df_all)\n",
    "numeric_vars = df_all.columns[df_all.dtypes != 'object'].values\n",
    "df_dummy_all[numeric_vars] = df_dummy_all[numeric_vars].fillna(0)\n",
    "\n",
    "col_names_scale = df_dummy_all.columns[df_dummy_all.max() > 5]\n",
    "\n",
    "df_dummy_all[col_names_scale] = np.log1p(df_dummy_all[col_names_scale])\n",
    "\n",
    "# Don't center and scale variables for decision tree models\n",
    "X_train_tree = df_dummy_all.loc[df_house.index].values\n",
    "X_test_tree = df_dummy_all.loc[df_house_test.index].values\n",
    "\n",
    "mean_cols_train = df_dummy_all.loc[:, col_names_scale].mean()\n",
    "std_cols_train = df_dummy_all.loc[:, col_names_scale].std()\n",
    "df_dummy_all.loc[:, col_names_scale] = (df_dummy_all.loc[:, col_names_scale] - mean_cols_train) / std_cols_train\n",
    "\n",
    "df_train_final = df_dummy_all.loc[df_house.index]\n",
    "df_test_final = df_dummy_all.loc[df_house_test.index]\n",
    "\n",
    "X_train_final = df_train_final.values\n",
    "X_test_final = df_test_final.values"
   ]
  },
  {
   "cell_type": "code",
   "execution_count": 161,
   "metadata": {
    "collapsed": false
   },
   "outputs": [],
   "source": [
    "alphas = np.logspace(-3, 1.7, 100)\n",
    "test_scores = []\n",
    "for alpha in alphas:\n",
    "    clf = Ridge(alpha)\n",
    "    test_score = np.sqrt(-cross_val_score(clf, X_train_final, y_train, cv=10, scoring='mean_squared_error'))\n",
    "    test_scores.append(np.mean(test_score))"
   ]
  },
  {
   "cell_type": "code",
   "execution_count": 162,
   "metadata": {
    "collapsed": false
   },
   "outputs": [
    {
     "data": {
      "image/png": "[encoded data removed]",
      "text/plain": [
       "<matplotlib.figure.Figure at 0xc8da9e8>"
      ]
     },
     "metadata": {},
     "output_type": "display_data"
    }
   ],
   "source": [
    "plt.plot(alphas, test_scores);"
   ]
  },
  {
   "cell_type": "code",
   "execution_count": 163,
   "metadata": {
    "collapsed": false
   },
   "outputs": [
    {
     "data": {
      "text/plain": [
       "(0.12296461832043848, 10.848096388007432)"
      ]
     },
     "execution_count": 163,
     "metadata": {},
     "output_type": "execute_result"
    }
   ],
   "source": [
    "min(test_scores), alphas[np.argmin(test_scores)]"
   ]
  },
  {
   "cell_type": "code",
   "execution_count": null,
   "metadata": {
    "collapsed": true
   },
   "outputs": [],
   "source": [
    "# best so far .122965"
   ]
  },
  {
   "cell_type": "code",
   "execution_count": 164,
   "metadata": {
    "collapsed": false
   },
   "outputs": [],
   "source": [
    "alphas = np.linspace(.00001, .001, 20)\n",
    "test_scores = []\n",
    "for alpha in alphas:\n",
    "    clf = Lasso(alpha)\n",
    "    test_score = np.sqrt(-cross_val_score(clf, X_train_final, y_train, cv=10, scoring='mean_squared_error'))\n",
    "    test_scores.append(np.mean(test_score))"
   ]
  },
  {
   "cell_type": "code",
   "execution_count": 165,
   "metadata": {
    "collapsed": false
   },
   "outputs": [
    {
     "data": {
      "image/png": "[encoded data removed]",
      "text/plain": [
       "<matplotlib.figure.Figure at 0xc572080>"
      ]
     },
     "metadata": {},
     "output_type": "display_data"
    }
   ],
   "source": [
    "plt.plot(alphas, test_scores);"
   ]
  },
  {
   "cell_type": "code",
   "execution_count": 166,
   "metadata": {
    "collapsed": false
   },
   "outputs": [
    {
     "data": {
      "text/plain": [
       "(0.12021362159882265, 0.0003747368421052632)"
      ]
     },
     "execution_count": 166,
     "metadata": {},
     "output_type": "execute_result"
    }
   ],
   "source": [
    "min(test_scores), alphas[np.argmin(test_scores)]"
   ]
  },
  {
   "cell_type": "code",
   "execution_count": 169,
   "metadata": {
    "collapsed": false
   },
   "outputs": [
    {
     "data": {
      "text/plain": [
       "0.11615026575565737"
      ]
     },
     "execution_count": 169,
     "metadata": {},
     "output_type": "execute_result"
    }
   ],
   "source": [
    "gbr = GradientBoostingRegressor(learning_rate=.03, max_depth=2, max_features=.05, n_estimators=3000)\n",
    "test_score = np.sqrt(-cross_val_score(gbr, X_train_tree, y_train, cv=10, scoring='mean_squared_error'))\n",
    "np.mean(test_score)"
   ]
  },
  {
   "cell_type": "markdown",
   "metadata": {},
   "source": [
    "## Drop in error: Ridge/Lasso/GBR\n",
    "* Fill all na with 0: .136 / .133 / .117\n",
    "* Categorize MSSubClass: .135 / .132 / .117\n",
    "* Log of all numeric values: .1243 / .121 / .115\n",
    "* Logged and centered and scaled: .124 / .121 / .117\n",
    "* Best engineered features .1230 / .1202"
   ]
  },
  {
   "cell_type": "code",
   "execution_count": 21,
   "metadata": {
    "collapsed": false
   },
   "outputs": [
    {
     "data": {
      "text/plain": [
       "GridSearchCV(cv=None, error_score='raise',\n",
       "       estimator=GradientBoostingRegressor(alpha=0.9, init=None, learning_rate=0.1, loss='ls',\n",
       "             max_depth=3, max_features=None, max_leaf_nodes=None,\n",
       "             min_samples_leaf=1, min_samples_split=2,\n",
       "             min_weight_fraction_leaf=0.0, n_estimators=100,\n",
       "             presort='auto', random_state=None, subsample=1.0, verbose=0,\n",
       "             warm_start=False),\n",
       "       fit_params={}, iid=True, n_jobs=-1,\n",
       "       param_grid={'learning_rate': [0.03], 'max_depth': [2], 'max_features': [0.05, 0.1, 0.2], 'n_estimators': [2000, 3000]},\n",
       "       pre_dispatch='2*n_jobs', refit=True, scoring='mean_squared_error',\n",
       "       verbose=0)"
      ]
     },
     "execution_count": 21,
     "metadata": {},
     "output_type": "execute_result"
    }
   ],
   "source": [
    "gbr = GradientBoostingRegressor()\n",
    "parameters = {'max_features':[.05, .1, .2], 'n_estimators':[2000, 3000],\n",
    "             'learning_rate':[.03], 'max_depth': [2]}\n",
    "clf = GridSearchCV(gbr, parameters, n_jobs=-1, scoring='mean_squared_error')\n",
    "clf.fit(X_train_tree, y_train)"
   ]
  },
  {
   "cell_type": "code",
   "execution_count": 24,
   "metadata": {
    "collapsed": false
   },
   "outputs": [
    {
     "data": {
      "text/plain": [
       "[mean: -0.01529, std: 0.00279, params: {'learning_rate': 0.03, 'max_depth': 2, 'max_features': 0.05, 'n_estimators': 2000},\n",
       " mean: -0.01520, std: 0.00294, params: {'learning_rate': 0.03, 'max_depth': 2, 'max_features': 0.05, 'n_estimators': 3000},\n",
       " mean: -0.01519, std: 0.00303, params: {'learning_rate': 0.03, 'max_depth': 2, 'max_features': 0.1, 'n_estimators': 2000},\n",
       " mean: -0.01530, std: 0.00311, params: {'learning_rate': 0.03, 'max_depth': 2, 'max_features': 0.1, 'n_estimators': 3000},\n",
       " mean: -0.01538, std: 0.00346, params: {'learning_rate': 0.03, 'max_depth': 2, 'max_features': 0.2, 'n_estimators': 2000},\n",
       " mean: -0.01566, std: 0.00336, params: {'learning_rate': 0.03, 'max_depth': 2, 'max_features': 0.2, 'n_estimators': 3000}]"
      ]
     },
     "execution_count": 24,
     "metadata": {},
     "output_type": "execute_result"
    }
   ],
   "source": [
    "clf.grid_scores_"
   ]
  },
  {
   "cell_type": "code",
   "execution_count": 25,
   "metadata": {
    "collapsed": false
   },
   "outputs": [
    {
     "data": {
      "text/plain": [
       "0.12323407177323328"
      ]
     },
     "execution_count": 25,
     "metadata": {},
     "output_type": "execute_result"
    }
   ],
   "source": [
    "np.sqrt(-clf.grid_scores_[2].mean_validation_score)"
   ]
  },
  {
   "cell_type": "code",
   "execution_count": 170,
   "metadata": {
    "collapsed": false
   },
   "outputs": [
    {
     "data": {
      "text/plain": [
       "Ridge(alpha=11, copy_X=True, fit_intercept=True, max_iter=None,\n",
       "   normalize=False, random_state=None, solver='auto', tol=0.001)"
      ]
     },
     "execution_count": 170,
     "metadata": {},
     "output_type": "execute_result"
    }
   ],
   "source": [
    "gbr = GradientBoostingRegressor(learning_rate=.03, max_depth=2, max_features=.05, n_estimators=3000)\n",
    "lasso = Lasso(.0004)\n",
    "ridge = Ridge(11)\n",
    "\n",
    "gbr.fit(X_train_tree, y_train)\n",
    "lasso.fit(X_train_final, y_train)\n",
    "ridge.fit(X_train_final, y_train)"
   ]
  },
  {
   "cell_type": "code",
   "execution_count": 171,
   "metadata": {
    "collapsed": false
   },
   "outputs": [],
   "source": [
    "y_gbr = gbr.predict(X_test_tree)\n",
    "y_ridge = ridge.predict(X_test_final)\n",
    "y_lasso = lasso.predict(X_test_final)\n",
    "# y_svr = svr.predict(X_test_final)"
   ]
  },
  {
   "cell_type": "code",
   "execution_count": 80,
   "metadata": {
    "collapsed": false
   },
   "outputs": [
    {
     "data": {
      "text/plain": [
       "<matplotlib.collections.PathCollection at 0xc39ec50>"
      ]
     },
     "execution_count": 80,
     "metadata": {},
     "output_type": "execute_result"
    },
    {
     "data": {
      "image/png": "[encoded data removed]",
      "text/plain": [
       "<matplotlib.figure.Figure at 0xc34dfd0>"
      ]
     },
     "metadata": {},
     "output_type": "display_data"
    }
   ],
   "source": [
    "plt.scatter(y_gbr, y_svr)"
   ]
  },
  {
   "cell_type": "code",
   "execution_count": 172,
   "metadata": {
    "collapsed": false
   },
   "outputs": [],
   "source": [
    "y_pred = np.exp(np.mean(np.array([y_gbr, y_ridge, y_lasso]), axis=0))"
   ]
  },
  {
   "cell_type": "code",
   "execution_count": 173,
   "metadata": {
    "collapsed": true
   },
   "outputs": [],
   "source": [
    "sub_df = pd.DataFrame({'Id': df_house_test.index, 'SalePrice': y_pred})"
   ]
  },
  {
   "cell_type": "code",
   "execution_count": 174,
   "metadata": {
    "collapsed": true
   },
   "outputs": [],
   "source": [
    "sub_df.to_csv('../data/submissions/submission26.csv', index=False)"
   ]
  },
  {
   "cell_type": "code",
   "execution_count": 175,
   "metadata": {
    "collapsed": false
   },
   "outputs": [
    {
     "data": {
      "text/html": [
       "<div>\n",
       "<table border=\"1\" class=\"dataframe\">\n",
       "  <thead>\n",
       "    <tr style=\"text-align: right;\">\n",
       "      <th></th>\n",
       "      <th>Id</th>\n",
       "      <th>SalePrice</th>\n",
       "    </tr>\n",
       "  </thead>\n",
       "  <tbody>\n",
       "    <tr>\n",
       "      <th>0</th>\n",
       "      <td>1461</td>\n",
       "      <td>120494.638725</td>\n",
       "    </tr>\n",
       "    <tr>\n",
       "      <th>1</th>\n",
       "      <td>1462</td>\n",
       "      <td>151491.309675</td>\n",
       "    </tr>\n",
       "    <tr>\n",
       "      <th>2</th>\n",
       "      <td>1463</td>\n",
       "      <td>189155.085510</td>\n",
       "    </tr>\n",
       "    <tr>\n",
       "      <th>3</th>\n",
       "      <td>1464</td>\n",
       "      <td>199896.595391</td>\n",
       "    </tr>\n",
       "    <tr>\n",
       "      <th>4</th>\n",
       "      <td>1465</td>\n",
       "      <td>196435.814688</td>\n",
       "    </tr>\n",
       "  </tbody>\n",
       "</table>\n",
       "</div>"
      ],
      "text/plain": [
       "     Id      SalePrice\n",
       "0  1461  120494.638725\n",
       "1  1462  151491.309675\n",
       "2  1463  189155.085510\n",
       "3  1464  199896.595391\n",
       "4  1465  196435.814688"
      ]
     },
     "execution_count": 175,
     "metadata": {},
     "output_type": "execute_result"
    }
   ],
   "source": [
    "sub_df.head()"
   ]
  },
  {
   "cell_type": "code",
   "execution_count": 85,
   "metadata": {
    "collapsed": true
   },
   "outputs": [],
   "source": [
    "sub_best = pd.read_csv('../data/submissions/submission13.csv', index_col=0)"
   ]
  },
  {
   "cell_type": "code",
   "execution_count": 88,
   "metadata": {
    "collapsed": false
   },
   "outputs": [],
   "source": [
    "sub_best_ens = (sub_best + sub_df.set_index('Id'))/2"
   ]
  },
  {
   "cell_type": "code",
   "execution_count": 90,
   "metadata": {
    "collapsed": false
   },
   "outputs": [],
   "source": [
    "sub_best_ens.to_csv('../data/submissions/submission26.csv')"
   ]
  },
  {
   "cell_type": "markdown",
   "metadata": {
    "collapsed": true
   },
   "source": [
    "## XGBoost"
   ]
  },
  {
   "cell_type": "code",
   "execution_count": 176,
   "metadata": {
    "collapsed": true
   },
   "outputs": [],
   "source": [
    "from xgboost.sklearn import XGBRegressor"
   ]
  },
  {
   "cell_type": "code",
   "execution_count": 177,
   "metadata": {
    "collapsed": true
   },
   "outputs": [],
   "source": [
    "xgb = XGBRegressor()"
   ]
  },
  {
   "cell_type": "code",
   "execution_count": 178,
   "metadata": {
    "collapsed": false
   },
   "outputs": [
    {
     "data": {
      "text/plain": [
       "XGBRegressor(base_score=0.5, colsample_bylevel=1, colsample_bytree=1, gamma=0,\n",
       "       learning_rate=0.1, max_delta_step=0, max_depth=3,\n",
       "       min_child_weight=1, missing=None, n_estimators=100, nthread=-1,\n",
       "       objective='reg:linear', reg_alpha=0, reg_lambda=1,\n",
       "       scale_pos_weight=1, seed=0, silent=True, subsample=1)"
      ]
     },
     "execution_count": 178,
     "metadata": {},
     "output_type": "execute_result"
    }
   ],
   "source": [
    "xgb.fit(X_train_tree, y_train)"
   ]
  },
  {
   "cell_type": "code",
   "execution_count": 334,
   "metadata": {
    "collapsed": false
   },
   "outputs": [
    {
     "data": {
      "text/plain": [
       "GridSearchCV(cv=None, error_score='raise',\n",
       "       estimator=XGBRegressor(base_score=0.5, colsample_bylevel=1, colsample_bytree=1, gamma=0,\n",
       "       learning_rate=0.1, max_delta_step=0, max_depth=3,\n",
       "       min_child_weight=1, missing=None, n_estimators=100, nthread=-1,\n",
       "       objective='reg:linear', reg_alpha=0, reg_lambda=1,\n",
       "       scale_pos_weight=1, seed=0, silent=True, subsample=1),\n",
       "       fit_params={}, iid=True, n_jobs=-1,\n",
       "       param_grid={'learning_rate': [0.005], 'reg_alpha': [0.001], 'n_estimators': [18000], 'subsample': [0.6], 'reg_lambda': [0.01, 0.001, 0.05, 0, 0.005], 'colsample_bylevel': [0.2], 'max_depth': [3], 'colsample_bytree': [0.5]},\n",
       "       pre_dispatch='2*n_jobs', refit=True, scoring='mean_squared_error',\n",
       "       verbose=0)"
      ]
     },
     "execution_count": 334,
     "metadata": {},
     "output_type": "execute_result"
    }
   ],
   "source": [
    "xgb = XGBRegressor()\n",
    "parameters = {'n_estimators':[18000], 'colsample_bylevel': [.2], 'colsample_bytree': [.5], 'subsample': [.6],\n",
    "             'learning_rate':[.005], 'max_depth': [3], 'reg_alpha' : [.001], 'reg_lambda':[0]}\n",
    "clf = GridSearchCV(xgb, parameters, n_jobs=-1, scoring='mean_squared_error')\n",
    "clf.fit(X_train_tree, y_train)"
   ]
  },
  {
   "cell_type": "code",
   "execution_count": 335,
   "metadata": {
    "collapsed": false
   },
   "outputs": [
    {
     "data": {
      "text/plain": [
       "[mean: -0.01412, std: 0.00299, params: {'learning_rate': 0.005, 'reg_alpha': 0.001, 'n_estimators': 18000, 'subsample': 0.6, 'reg_lambda': 0.01, 'colsample_bylevel': 0.2, 'max_depth': 3, 'colsample_bytree': 0.5},\n",
       " mean: -0.01411, std: 0.00296, params: {'learning_rate': 0.005, 'reg_alpha': 0.001, 'colsample_bylevel': 0.2, 'subsample': 0.6, 'reg_lambda': 0.001, 'n_estimators': 18000, 'max_depth': 3, 'colsample_bytree': 0.5},\n",
       " mean: -0.01445, std: 0.00281, params: {'reg_alpha': 0.001, 'learning_rate': 0.005, 'n_estimators': 18000, 'subsample': 0.6, 'reg_lambda': 0.05, 'colsample_bylevel': 0.2, 'max_depth': 3, 'colsample_bytree': 0.5},\n",
       " mean: -0.01409, std: 0.00296, params: {'reg_alpha': 0.001, 'learning_rate': 0.005, 'n_estimators': 18000, 'subsample': 0.6, 'reg_lambda': 0, 'colsample_bylevel': 0.2, 'max_depth': 3, 'colsample_bytree': 0.5},\n",
       " mean: -0.01409, std: 0.00293, params: {'reg_alpha': 0.001, 'learning_rate': 0.005, 'n_estimators': 18000, 'subsample': 0.6, 'reg_lambda': 0.005, 'colsample_bylevel': 0.2, 'max_depth': 3, 'colsample_bytree': 0.5}]"
      ]
     },
     "execution_count": 335,
     "metadata": {},
     "output_type": "execute_result"
    }
   ],
   "source": [
    "clf.grid_scores_"
   ]
  },
  {
   "cell_type": "code",
   "execution_count": 336,
   "metadata": {
    "collapsed": false
   },
   "outputs": [
    {
     "data": {
      "text/plain": [
       "{'colsample_bylevel': 0.2,\n",
       " 'colsample_bytree': 0.5,\n",
       " 'learning_rate': 0.005,\n",
       " 'max_depth': 3,\n",
       " 'n_estimators': 18000,\n",
       " 'reg_alpha': 0.001,\n",
       " 'reg_lambda': 0,\n",
       " 'subsample': 0.6}"
      ]
     },
     "execution_count": 336,
     "metadata": {},
     "output_type": "execute_result"
    }
   ],
   "source": [
    "clf.best_params_"
   ]
  },
  {
   "cell_type": "code",
   "execution_count": 337,
   "metadata": {
    "collapsed": false
   },
   "outputs": [
    {
     "data": {
      "text/plain": [
       "0.11868803896103827"
      ]
     },
     "execution_count": 337,
     "metadata": {},
     "output_type": "execute_result"
    }
   ],
   "source": [
    "np.sqrt(-clf.best_score_)"
   ]
  },
  {
   "cell_type": "code",
   "execution_count": null,
   "metadata": {
    "collapsed": true
   },
   "outputs": [],
   "source": [
    "# best .11868"
   ]
  },
  {
   "cell_type": "code",
   "execution_count": 338,
   "metadata": {
    "collapsed": false
   },
   "outputs": [
    {
     "data": {
      "text/plain": [
       "Ridge(alpha=11, copy_X=True, fit_intercept=True, max_iter=None,\n",
       "   normalize=False, random_state=None, solver='auto', tol=0.001)"
      ]
     },
     "execution_count": 338,
     "metadata": {},
     "output_type": "execute_result"
    }
   ],
   "source": [
    "# xgb = XGBRegressor(colsample_bylevel=.2, colsample_bytree=.5, learning_rate=.01, max_depth=2, \n",
    "#                    n_estimators=10000,reg_alpha=.1, reg_lambda=.01, subsample=.6)\n",
    "xgb = XGBRegressor(colsample_bylevel=.2, colsample_bytree=.5, learning_rate=.005, max_depth=3, \n",
    "                   n_estimators=18000, reg_alpha=.001, reg_lambda=0, subsample=.6)\n",
    "lasso = Lasso(.0004)\n",
    "ridge = Ridge(11)\n",
    "\n",
    "xgb.fit(X_train_tree, y_train)\n",
    "lasso.fit(X_train_final, y_train)\n",
    "ridge.fit(X_train_final, y_train)"
   ]
  },
  {
   "cell_type": "code",
   "execution_count": 339,
   "metadata": {
    "collapsed": true
   },
   "outputs": [],
   "source": [
    "y_xgb = xgb.predict(X_test_tree)\n",
    "y_ridge = ridge.predict(X_test_final)\n",
    "y_lasso = lasso.predict(X_test_final)"
   ]
  },
  {
   "cell_type": "code",
   "execution_count": 340,
   "metadata": {
    "collapsed": true
   },
   "outputs": [],
   "source": [
    "y_pred = np.exp(np.mean(np.array([y_xgb, y_lasso, y_ridge]), axis=0))"
   ]
  },
  {
   "cell_type": "code",
   "execution_count": 341,
   "metadata": {
    "collapsed": true
   },
   "outputs": [],
   "source": [
    "sub_df = pd.DataFrame({'Id': df_house_test.index, 'SalePrice': y_pred})\n",
    "sub_df.to_csv('../data/submissions/submission29.csv', index=False)"
   ]
  },
  {
   "cell_type": "code",
   "execution_count": 344,
   "metadata": {
    "collapsed": true
   },
   "outputs": [],
   "source": [
    "sub_best = pd.read_csv('../data/submissions/submission13.csv', index_col=0)\n",
    "sub_best_ens = (sub_best + sub_df.set_index('Id'))/2\n",
    "sub_best_ens.to_csv('../data/submissions/submission30.csv')"
   ]
  },
  {
   "cell_type": "code",
   "execution_count": null,
   "metadata": {
    "collapsed": true
   },
   "outputs": [],
   "source": []
  }
 ],
 "metadata": {
  "kernelspec": {
   "display_name": "Python 3",
   "language": "python",
   "name": "python3"
  },
  "language_info": {
   "codemirror_mode": {
    "name": "ipython",
    "version": 3
   },
   "file_extension": ".py",
   "mimetype": "text/x-python",
   "name": "python",
   "nbconvert_exporter": "python",
   "pygments_lexer": "ipython3",
   "version": "3.5.1"
  }
 },
 "nbformat": 4,
 "nbformat_minor": 0
}
